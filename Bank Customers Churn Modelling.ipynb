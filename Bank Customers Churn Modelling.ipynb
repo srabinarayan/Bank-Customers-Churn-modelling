{
 "cells": [
  {
   "cell_type": "markdown",
   "metadata": {},
   "source": [
    "# Bank Customer Churn Prediction"
   ]
  },
  {
   "cell_type": "markdown",
   "metadata": {},
   "source": [
    "Customer churn is a term used to refer to customers who leave the financial institution they've been working with. It has emerged as one of the major problems for financial institutions including banks"
   ]
  },
  {
   "cell_type": "markdown",
   "metadata": {},
   "source": [
    "<b> OVERVIEW ON THE DATASET </b>"
   ]
  },
  {
   "cell_type": "markdown",
   "metadata": {},
   "source": [
    "   * The dataset is a labelled dataset (has features determining the target) thus we'll use Supervised Learning models.The target column is classifying the customer into Churned customer or not, thus we'll implement Classification models"
   ]
  },
  {
   "cell_type": "markdown",
   "metadata": {},
   "source": [
    "<b> PERFORMANCE METRICS </b>"
   ]
  },
  {
   "cell_type": "markdown",
   "metadata": {},
   "source": [
    "   * Since Objective of our problem is to predict churn customer .So we need to reduce False negtive error ,that means we need  to increase Recall score .So we will cross validate our data in term of recall score , and We will consider F2 score for model selection because F2 score gives more attention to recall than precision"
   ]
  },
  {
   "cell_type": "markdown",
   "metadata": {},
   "source": [
    "<b> IMPORT NECESSARY LIBRARIES <b>"
   ]
  },
  {
   "cell_type": "code",
   "execution_count": 81,
   "metadata": {},
   "outputs": [],
   "source": [
    "#import libraries for data wrangling\n",
    "import pandas as pd\n",
    "import matplotlib.pyplot as plt\n",
    "import numpy as np\n",
    "import seaborn as sns\n",
    "from collections import Counter"
   ]
  },
  {
   "cell_type": "code",
   "execution_count": 407,
   "metadata": {},
   "outputs": [],
   "source": [
    "#import libraries for modelling\n",
    "from sklearn.model_selection import train_test_split,cross_val_score,learning_curve\n",
    "from sklearn.preprocessing import StandardScaler\n",
    "from sklearn.metrics import accuracy_score,confusion_matrix,auc,roc_curve,roc_auc_score,classification_report,f1_score,recall_score,fbeta_score\n",
    "from keras.models import Sequential\n",
    "from keras.callbacks import Callback,EarlyStopping,History,ModelCheckpoint,LearningRateScheduler,ReduceLROnPlateau\n",
    "from keras.layers import Dense,BatchNormalization"
   ]
  },
  {
   "cell_type": "code",
   "execution_count": 408,
   "metadata": {},
   "outputs": [],
   "source": [
    "import scipy.stats as stats\n",
    "import os\n",
    "import random\n",
    "\n",
    "import statsmodels.api as sm\n",
    "import statsmodels.stats.multicomp\n",
    "\n",
    "from statsmodels.formula.api import ols\n",
    "from statsmodels.stats.anova import anova_lm\n",
    "import matplotlib.pyplot as plt\n",
    "from scipy import stats"
   ]
  },
  {
   "cell_type": "markdown",
   "metadata": {},
   "source": [
    "IMPORT DATA"
   ]
  },
  {
   "cell_type": "code",
   "execution_count": 84,
   "metadata": {},
   "outputs": [],
   "source": [
    " data=pd.read_csv('../RN7/data/BankCustomers.csv',encoding= 'unicode_escape')"
   ]
  },
  {
   "cell_type": "code",
   "execution_count": 85,
   "metadata": {},
   "outputs": [
    {
     "data": {
      "text/plain": [
       "(10000, 14)"
      ]
     },
     "execution_count": 85,
     "metadata": {},
     "output_type": "execute_result"
    }
   ],
   "source": [
    "data.shape"
   ]
  },
  {
   "cell_type": "code",
   "execution_count": 86,
   "metadata": {},
   "outputs": [
    {
     "data": {
      "text/html": [
       "<div>\n",
       "<style scoped>\n",
       "    .dataframe tbody tr th:only-of-type {\n",
       "        vertical-align: middle;\n",
       "    }\n",
       "\n",
       "    .dataframe tbody tr th {\n",
       "        vertical-align: top;\n",
       "    }\n",
       "\n",
       "    .dataframe thead th {\n",
       "        text-align: right;\n",
       "    }\n",
       "</style>\n",
       "<table border=\"1\" class=\"dataframe\">\n",
       "  <thead>\n",
       "    <tr style=\"text-align: right;\">\n",
       "      <th></th>\n",
       "      <th>RowNumber</th>\n",
       "      <th>CustomerId</th>\n",
       "      <th>Surname</th>\n",
       "      <th>CreditScore</th>\n",
       "      <th>Geography</th>\n",
       "      <th>Gender</th>\n",
       "      <th>Age</th>\n",
       "      <th>Tenure</th>\n",
       "      <th>Balance</th>\n",
       "      <th>NumOfProducts</th>\n",
       "      <th>HasCrCard</th>\n",
       "      <th>IsActiveMember</th>\n",
       "      <th>EstimatedSalary</th>\n",
       "      <th>Exited</th>\n",
       "    </tr>\n",
       "  </thead>\n",
       "  <tbody>\n",
       "    <tr>\n",
       "      <th>0</th>\n",
       "      <td>1</td>\n",
       "      <td>15634602</td>\n",
       "      <td>Hargrave</td>\n",
       "      <td>619</td>\n",
       "      <td>France</td>\n",
       "      <td>Female</td>\n",
       "      <td>42</td>\n",
       "      <td>2</td>\n",
       "      <td>0.00</td>\n",
       "      <td>1</td>\n",
       "      <td>1</td>\n",
       "      <td>1</td>\n",
       "      <td>101348.88</td>\n",
       "      <td>1</td>\n",
       "    </tr>\n",
       "    <tr>\n",
       "      <th>1</th>\n",
       "      <td>2</td>\n",
       "      <td>15647311</td>\n",
       "      <td>Hill</td>\n",
       "      <td>608</td>\n",
       "      <td>Spain</td>\n",
       "      <td>Female</td>\n",
       "      <td>41</td>\n",
       "      <td>1</td>\n",
       "      <td>83807.86</td>\n",
       "      <td>1</td>\n",
       "      <td>0</td>\n",
       "      <td>1</td>\n",
       "      <td>112542.58</td>\n",
       "      <td>0</td>\n",
       "    </tr>\n",
       "    <tr>\n",
       "      <th>2</th>\n",
       "      <td>3</td>\n",
       "      <td>15619304</td>\n",
       "      <td>Onio</td>\n",
       "      <td>502</td>\n",
       "      <td>France</td>\n",
       "      <td>Female</td>\n",
       "      <td>42</td>\n",
       "      <td>8</td>\n",
       "      <td>159660.80</td>\n",
       "      <td>3</td>\n",
       "      <td>1</td>\n",
       "      <td>0</td>\n",
       "      <td>113931.57</td>\n",
       "      <td>1</td>\n",
       "    </tr>\n",
       "    <tr>\n",
       "      <th>3</th>\n",
       "      <td>4</td>\n",
       "      <td>15701354</td>\n",
       "      <td>Boni</td>\n",
       "      <td>699</td>\n",
       "      <td>France</td>\n",
       "      <td>Female</td>\n",
       "      <td>39</td>\n",
       "      <td>1</td>\n",
       "      <td>0.00</td>\n",
       "      <td>2</td>\n",
       "      <td>0</td>\n",
       "      <td>0</td>\n",
       "      <td>93826.63</td>\n",
       "      <td>0</td>\n",
       "    </tr>\n",
       "    <tr>\n",
       "      <th>4</th>\n",
       "      <td>5</td>\n",
       "      <td>15737888</td>\n",
       "      <td>Mitchell</td>\n",
       "      <td>850</td>\n",
       "      <td>Spain</td>\n",
       "      <td>Female</td>\n",
       "      <td>43</td>\n",
       "      <td>2</td>\n",
       "      <td>125510.82</td>\n",
       "      <td>1</td>\n",
       "      <td>1</td>\n",
       "      <td>1</td>\n",
       "      <td>79084.10</td>\n",
       "      <td>0</td>\n",
       "    </tr>\n",
       "  </tbody>\n",
       "</table>\n",
       "</div>"
      ],
      "text/plain": [
       "   RowNumber  CustomerId   Surname  CreditScore Geography  Gender  Age  \\\n",
       "0          1    15634602  Hargrave          619    France  Female   42   \n",
       "1          2    15647311      Hill          608     Spain  Female   41   \n",
       "2          3    15619304      Onio          502    France  Female   42   \n",
       "3          4    15701354      Boni          699    France  Female   39   \n",
       "4          5    15737888  Mitchell          850     Spain  Female   43   \n",
       "\n",
       "   Tenure    Balance  NumOfProducts  HasCrCard  IsActiveMember  \\\n",
       "0       2       0.00              1          1               1   \n",
       "1       1   83807.86              1          0               1   \n",
       "2       8  159660.80              3          1               0   \n",
       "3       1       0.00              2          0               0   \n",
       "4       2  125510.82              1          1               1   \n",
       "\n",
       "   EstimatedSalary  Exited  \n",
       "0        101348.88       1  \n",
       "1        112542.58       0  \n",
       "2        113931.57       1  \n",
       "3         93826.63       0  \n",
       "4         79084.10       0  "
      ]
     },
     "execution_count": 86,
     "metadata": {},
     "output_type": "execute_result"
    }
   ],
   "source": [
    "data.head()"
   ]
  },
  {
   "cell_type": "code",
   "execution_count": 87,
   "metadata": {},
   "outputs": [
    {
     "data": {
      "text/plain": [
       "Male      5457\n",
       "Female    4543\n",
       "Name: Gender, dtype: int64"
      ]
     },
     "execution_count": 87,
     "metadata": {},
     "output_type": "execute_result"
    }
   ],
   "source": [
    "data.Gender.value_counts()"
   ]
  },
  {
   "cell_type": "code",
   "execution_count": 88,
   "metadata": {},
   "outputs": [
    {
     "name": "stdout",
     "output_type": "stream",
     "text": [
      "<class 'pandas.core.frame.DataFrame'>\n",
      "RangeIndex: 10000 entries, 0 to 9999\n",
      "Data columns (total 14 columns):\n",
      " #   Column           Non-Null Count  Dtype  \n",
      "---  ------           --------------  -----  \n",
      " 0   RowNumber        10000 non-null  int64  \n",
      " 1   CustomerId       10000 non-null  int64  \n",
      " 2   Surname          10000 non-null  object \n",
      " 3   CreditScore      10000 non-null  int64  \n",
      " 4   Geography        10000 non-null  object \n",
      " 5   Gender           10000 non-null  object \n",
      " 6   Age              10000 non-null  int64  \n",
      " 7   Tenure           10000 non-null  int64  \n",
      " 8   Balance          10000 non-null  float64\n",
      " 9   NumOfProducts    10000 non-null  int64  \n",
      " 10  HasCrCard        10000 non-null  int64  \n",
      " 11  IsActiveMember   10000 non-null  int64  \n",
      " 12  EstimatedSalary  10000 non-null  float64\n",
      " 13  Exited           10000 non-null  int64  \n",
      "dtypes: float64(2), int64(9), object(3)\n",
      "memory usage: 1.1+ MB\n"
     ]
    }
   ],
   "source": [
    "data.info()"
   ]
  },
  {
   "cell_type": "raw",
   "metadata": {},
   "source": [
    "From the above cell, we conclude that there are no missing values in our dataset (since all features have 10000 non-null values)"
   ]
  },
  {
   "cell_type": "code",
   "execution_count": 89,
   "metadata": {},
   "outputs": [
    {
     "data": {
      "text/html": [
       "<div>\n",
       "<style scoped>\n",
       "    .dataframe tbody tr th:only-of-type {\n",
       "        vertical-align: middle;\n",
       "    }\n",
       "\n",
       "    .dataframe tbody tr th {\n",
       "        vertical-align: top;\n",
       "    }\n",
       "\n",
       "    .dataframe thead th {\n",
       "        text-align: right;\n",
       "    }\n",
       "</style>\n",
       "<table border=\"1\" class=\"dataframe\">\n",
       "  <thead>\n",
       "    <tr style=\"text-align: right;\">\n",
       "      <th></th>\n",
       "      <th>RowNumber</th>\n",
       "      <th>CustomerId</th>\n",
       "      <th>CreditScore</th>\n",
       "      <th>Age</th>\n",
       "      <th>Tenure</th>\n",
       "      <th>Balance</th>\n",
       "      <th>NumOfProducts</th>\n",
       "      <th>HasCrCard</th>\n",
       "      <th>IsActiveMember</th>\n",
       "      <th>EstimatedSalary</th>\n",
       "      <th>Exited</th>\n",
       "    </tr>\n",
       "  </thead>\n",
       "  <tbody>\n",
       "    <tr>\n",
       "      <th>count</th>\n",
       "      <td>10000.00000</td>\n",
       "      <td>1.000000e+04</td>\n",
       "      <td>10000.000000</td>\n",
       "      <td>10000.000000</td>\n",
       "      <td>10000.000000</td>\n",
       "      <td>10000.000000</td>\n",
       "      <td>10000.000000</td>\n",
       "      <td>10000.00000</td>\n",
       "      <td>10000.000000</td>\n",
       "      <td>10000.000000</td>\n",
       "      <td>10000.000000</td>\n",
       "    </tr>\n",
       "    <tr>\n",
       "      <th>mean</th>\n",
       "      <td>5000.50000</td>\n",
       "      <td>1.569094e+07</td>\n",
       "      <td>650.528800</td>\n",
       "      <td>38.921800</td>\n",
       "      <td>5.012800</td>\n",
       "      <td>76485.889288</td>\n",
       "      <td>1.530200</td>\n",
       "      <td>0.70550</td>\n",
       "      <td>0.515100</td>\n",
       "      <td>100090.239881</td>\n",
       "      <td>0.203700</td>\n",
       "    </tr>\n",
       "    <tr>\n",
       "      <th>std</th>\n",
       "      <td>2886.89568</td>\n",
       "      <td>7.193619e+04</td>\n",
       "      <td>96.653299</td>\n",
       "      <td>10.487806</td>\n",
       "      <td>2.892174</td>\n",
       "      <td>62397.405202</td>\n",
       "      <td>0.581654</td>\n",
       "      <td>0.45584</td>\n",
       "      <td>0.499797</td>\n",
       "      <td>57510.492818</td>\n",
       "      <td>0.402769</td>\n",
       "    </tr>\n",
       "    <tr>\n",
       "      <th>min</th>\n",
       "      <td>1.00000</td>\n",
       "      <td>1.556570e+07</td>\n",
       "      <td>350.000000</td>\n",
       "      <td>18.000000</td>\n",
       "      <td>0.000000</td>\n",
       "      <td>0.000000</td>\n",
       "      <td>1.000000</td>\n",
       "      <td>0.00000</td>\n",
       "      <td>0.000000</td>\n",
       "      <td>11.580000</td>\n",
       "      <td>0.000000</td>\n",
       "    </tr>\n",
       "    <tr>\n",
       "      <th>25%</th>\n",
       "      <td>2500.75000</td>\n",
       "      <td>1.562853e+07</td>\n",
       "      <td>584.000000</td>\n",
       "      <td>32.000000</td>\n",
       "      <td>3.000000</td>\n",
       "      <td>0.000000</td>\n",
       "      <td>1.000000</td>\n",
       "      <td>0.00000</td>\n",
       "      <td>0.000000</td>\n",
       "      <td>51002.110000</td>\n",
       "      <td>0.000000</td>\n",
       "    </tr>\n",
       "    <tr>\n",
       "      <th>50%</th>\n",
       "      <td>5000.50000</td>\n",
       "      <td>1.569074e+07</td>\n",
       "      <td>652.000000</td>\n",
       "      <td>37.000000</td>\n",
       "      <td>5.000000</td>\n",
       "      <td>97198.540000</td>\n",
       "      <td>1.000000</td>\n",
       "      <td>1.00000</td>\n",
       "      <td>1.000000</td>\n",
       "      <td>100193.915000</td>\n",
       "      <td>0.000000</td>\n",
       "    </tr>\n",
       "    <tr>\n",
       "      <th>75%</th>\n",
       "      <td>7500.25000</td>\n",
       "      <td>1.575323e+07</td>\n",
       "      <td>718.000000</td>\n",
       "      <td>44.000000</td>\n",
       "      <td>7.000000</td>\n",
       "      <td>127644.240000</td>\n",
       "      <td>2.000000</td>\n",
       "      <td>1.00000</td>\n",
       "      <td>1.000000</td>\n",
       "      <td>149388.247500</td>\n",
       "      <td>0.000000</td>\n",
       "    </tr>\n",
       "    <tr>\n",
       "      <th>max</th>\n",
       "      <td>10000.00000</td>\n",
       "      <td>1.581569e+07</td>\n",
       "      <td>850.000000</td>\n",
       "      <td>92.000000</td>\n",
       "      <td>10.000000</td>\n",
       "      <td>250898.090000</td>\n",
       "      <td>4.000000</td>\n",
       "      <td>1.00000</td>\n",
       "      <td>1.000000</td>\n",
       "      <td>199992.480000</td>\n",
       "      <td>1.000000</td>\n",
       "    </tr>\n",
       "  </tbody>\n",
       "</table>\n",
       "</div>"
      ],
      "text/plain": [
       "         RowNumber    CustomerId   CreditScore           Age        Tenure  \\\n",
       "count  10000.00000  1.000000e+04  10000.000000  10000.000000  10000.000000   \n",
       "mean    5000.50000  1.569094e+07    650.528800     38.921800      5.012800   \n",
       "std     2886.89568  7.193619e+04     96.653299     10.487806      2.892174   \n",
       "min        1.00000  1.556570e+07    350.000000     18.000000      0.000000   \n",
       "25%     2500.75000  1.562853e+07    584.000000     32.000000      3.000000   \n",
       "50%     5000.50000  1.569074e+07    652.000000     37.000000      5.000000   \n",
       "75%     7500.25000  1.575323e+07    718.000000     44.000000      7.000000   \n",
       "max    10000.00000  1.581569e+07    850.000000     92.000000     10.000000   \n",
       "\n",
       "             Balance  NumOfProducts    HasCrCard  IsActiveMember  \\\n",
       "count   10000.000000   10000.000000  10000.00000    10000.000000   \n",
       "mean    76485.889288       1.530200      0.70550        0.515100   \n",
       "std     62397.405202       0.581654      0.45584        0.499797   \n",
       "min         0.000000       1.000000      0.00000        0.000000   \n",
       "25%         0.000000       1.000000      0.00000        0.000000   \n",
       "50%     97198.540000       1.000000      1.00000        1.000000   \n",
       "75%    127644.240000       2.000000      1.00000        1.000000   \n",
       "max    250898.090000       4.000000      1.00000        1.000000   \n",
       "\n",
       "       EstimatedSalary        Exited  \n",
       "count     10000.000000  10000.000000  \n",
       "mean     100090.239881      0.203700  \n",
       "std       57510.492818      0.402769  \n",
       "min          11.580000      0.000000  \n",
       "25%       51002.110000      0.000000  \n",
       "50%      100193.915000      0.000000  \n",
       "75%      149388.247500      0.000000  \n",
       "max      199992.480000      1.000000  "
      ]
     },
     "execution_count": 89,
     "metadata": {},
     "output_type": "execute_result"
    }
   ],
   "source": [
    "data.describe()"
   ]
  },
  {
   "cell_type": "markdown",
   "metadata": {},
   "source": [
    "CreditScore: the range of credit score is from 350 to 850\n",
    "\n",
    "Geography: the regional bank has customers from three countries: France, Germany and Spain\n",
    "\n",
    "Age: the range of customer’s age is from 18 to 92\n",
    "\n",
    "Tenure: years that the customer has stayed with the bank\n",
    "\n",
    "Balance: the amount of money available for withdrawal\n",
    "\n",
    "NumOfProducts: number of products that the customers use in the bank\n",
    "\n",
    "IsActiveMember: 1 indicates is active\n",
    "\n",
    "EstimatedSalary: customer’s self-reported annual salary\n",
    "\n",
    "Exited: whether the customer has churned (closed the bank account), 1 indicates churn."
   ]
  },
  {
   "cell_type": "code",
   "execution_count": 90,
   "metadata": {},
   "outputs": [
    {
     "data": {
      "text/plain": [
       "0    7963\n",
       "1    2037\n",
       "Name: Exited, dtype: int64"
      ]
     },
     "execution_count": 90,
     "metadata": {},
     "output_type": "execute_result"
    }
   ],
   "source": [
    "data.Exited.value_counts()"
   ]
  },
  {
   "cell_type": "code",
   "execution_count": 91,
   "metadata": {},
   "outputs": [
    {
     "data": {
      "image/png": "[encoded data removed]",
      "text/plain": [
       "<Figure size 576x360 with 1 Axes>"
      ]
     },
     "metadata": {},
     "output_type": "display_data"
    }
   ],
   "source": [
    "\n",
    "size=[data[data.Exited==1].count().Exited,data[data.Exited==0].count().Exited]\n",
    "label=['Churned','retained']\n",
    "fig,ax=plt.subplots(figsize=(8,5))\n",
    "ax.pie(size,labels=label,autopct='%1.1f%%',shadow=True,)\n",
    "ax.axis('equal')\n",
    "plt.show()"
   ]
  },
  {
   "cell_type": "raw",
   "metadata": {},
   "source": [
    "Almost 21% of customers churned"
   ]
  },
  {
   "cell_type": "code",
   "execution_count": 92,
   "metadata": {},
   "outputs": [],
   "source": [
    "numerical_variable=['CreditScore','Age','Balance','EstimatedSalary']"
   ]
  },
  {
   "cell_type": "markdown",
   "metadata": {},
   "source": [
    "## Feature Exploration"
   ]
  },
  {
   "cell_type": "markdown",
   "metadata": {},
   "source": [
    "### Continous Feature"
   ]
  },
  {
   "cell_type": "markdown",
   "metadata": {},
   "source": [
    "### <b> 1. Age </b>"
   ]
  },
  {
   "cell_type": "code",
   "execution_count": 93,
   "metadata": {},
   "outputs": [
    {
     "data": {
      "image/png": "[encoded data removed]",
      "text/plain": [
       "<Figure size 864x576 with 2 Axes>"
      ]
     },
     "metadata": {
      "needs_background": "light"
     },
     "output_type": "display_data"
    }
   ],
   "source": [
    "plt.figure(figsize=(12, 8))\n",
    "\n",
    "plt.subplot(1,2,1)\n",
    "sns.violinplot(x = 'Exited', y = 'Age', data = data)\n",
    "\n",
    "plt.subplot(1,2,2)\n",
    "sns.distplot(data[data['Exited'] == 1]['Age'] , color = 'red')\n",
    "sns.distplot(data[data['Exited'] == 0]['Age']  , color = 'blue' )\n",
    "plt.show()"
   ]
  },
  {
   "cell_type": "code",
   "execution_count": 94,
   "metadata": {},
   "outputs": [
    {
     "data": {
      "image/png": "[encoded data removed]",
      "text/plain": [
       "<Figure size 690.375x216 with 1 Axes>"
      ]
     },
     "metadata": {
      "needs_background": "light"
     },
     "output_type": "display_data"
    }
   ],
   "source": [
    "face = sns.FacetGrid(data, hue=\"Exited\",aspect=3)\n",
    "face.map(sns.kdeplot,\"Age\",shade= True)\n",
    "face.add_legend()\n",
    "plt.show()"
   ]
  },
  {
   "cell_type": "code",
   "execution_count": 95,
   "metadata": {},
   "outputs": [
    {
     "data": {
      "image/png": "[encoded data removed]",
      "text/plain": [
       "<Figure size 432x288 with 1 Axes>"
      ]
     },
     "metadata": {
      "needs_background": "light"
     },
     "output_type": "display_data"
    }
   ],
   "source": [
    "#Q-Q Plot\n",
    "import pylab\n",
    "stats.probplot(data[data[\"Exited\"]==1][\"Age\"],plot=pylab)\n",
    "pylab.show()"
   ]
  },
  {
   "cell_type": "markdown",
   "metadata": {},
   "source": [
    "#### Age of churned customer follow Gaussian Distribution"
   ]
  },
  {
   "cell_type": "code",
   "execution_count": 96,
   "metadata": {},
   "outputs": [
    {
     "data": {
      "text/plain": [
       "(25.31487394347752, 64.36112016550628)"
      ]
     },
     "execution_count": 96,
     "metadata": {},
     "output_type": "execute_result"
    }
   ],
   "source": [
    "age_mean=data[data[\"Exited\"]==1][\"Age\"].mean()\n",
    "std_mean=data[data[\"Exited\"]==1][\"Age\"].std()\n",
    "age_mean-(2*std_mean),age_mean+(2*std_mean),"
   ]
  },
  {
   "cell_type": "markdown",
   "metadata": {},
   "source": [
    "* So age of 95% of churned customer lies within 2nd standard deviation i:e 25 to 65 range.But the age range which has most no of churned customer is 40-50\n",
    "* Non-churned customers have a right-skewed distribution (tend to be young). Outliers above 60 years old maybe our stable customers."
   ]
  },
  {
   "cell_type": "code",
   "execution_count": 97,
   "metadata": {},
   "outputs": [
    {
     "name": "stdout",
     "output_type": "stream",
     "text": [
      "0 percentile value is 18\n",
      "10 percentile value is 27\n",
      "20 percentile value is 31\n",
      "30 percentile value is 33\n",
      "40 percentile value is 35\n",
      "50 percentile value is 37\n",
      "60 percentile value is 40\n",
      "70 percentile value is 42\n",
      "80 percentile value is 46\n",
      "90 percentile value is 53\n",
      "100 percentile value is  92\n"
     ]
    }
   ],
   "source": [
    "#calculating 0-100th percentile to find a the correct percentile value for removal of outliers\n",
    "for i in range(0,100,10):\n",
    "    var =data[\"Age\"].values\n",
    "    var = np.sort(var,axis = None)\n",
    "    print(\"{} percentile value is {}\".format(i,var[int(len(var)*(float(i)/100))]))\n",
    "print (\"100 percentile value is \",var[-1])"
   ]
  },
  {
   "cell_type": "code",
   "execution_count": 98,
   "metadata": {},
   "outputs": [
    {
     "name": "stdout",
     "output_type": "stream",
     "text": [
      "90 percentile value is 53\n",
      "91 percentile value is 54\n",
      "92 percentile value is 56\n",
      "93 percentile value is 57\n",
      "94 percentile value is 58\n",
      "95 percentile value is 60\n",
      "96 percentile value is 62\n",
      "97 percentile value is 64\n",
      "98 percentile value is 67\n",
      "99 percentile value is 72\n",
      "100 percentile value is  92\n"
     ]
    }
   ],
   "source": [
    "#looking further from the 99th percecntile\n",
    "for i in range(90,100):\n",
    "    var =data[\"Age\"].values\n",
    "    var = np.sort(var,axis = None)\n",
    "    print(\"{} percentile value is {}\".format(i,var[int(len(var)*(float(i)/100))]))\n",
    "print (\"100 percentile value is \",var[-1])"
   ]
  },
  {
   "cell_type": "markdown",
   "metadata": {},
   "source": [
    "* Here we can conclude Age more than 73 as outlier"
   ]
  },
  {
   "cell_type": "code",
   "execution_count": 106,
   "metadata": {},
   "outputs": [
    {
     "data": {
      "text/plain": [
       "(8.0, 68.0)"
      ]
     },
     "execution_count": 106,
     "metadata": {},
     "output_type": "execute_result"
    }
   ],
   "source": [
    "Q1=np.percentile(data[\"Age\"],25)\n",
    "Q3=np.percentile(data[\"Age\"],75)\n",
    "IQR=Q3-Q1\n",
    "upper_limit=Q3+2*IQR\n",
    "lower_limit=Q1-2*IQR\n",
    "lower_limit,upper_limit"
   ]
  },
  {
   "cell_type": "code",
   "execution_count": 108,
   "metadata": {},
   "outputs": [],
   "source": [
    "data=data[data[\"Age\"]<=73]"
   ]
  },
  {
   "cell_type": "markdown",
   "metadata": {},
   "source": [
    "### 2. Balance"
   ]
  },
  {
   "cell_type": "code",
   "execution_count": 110,
   "metadata": {},
   "outputs": [
    {
     "data": {
      "image/png": "[encoded data removed]",
      "text/plain": [
       "<Figure size 864x576 with 2 Axes>"
      ]
     },
     "metadata": {
      "needs_background": "light"
     },
     "output_type": "display_data"
    }
   ],
   "source": [
    "plt.figure(figsize=(12, 8))\n",
    "\n",
    "plt.subplot(1,2,1)\n",
    "sns.violinplot(x = 'Exited', y = 'Balance', data = data)\n",
    "\n",
    "plt.subplot(1,2,2)\n",
    "sns.distplot(data[data['Exited'] == 1]['Balance'] , color = 'red')\n",
    "sns.distplot(data[data['Exited'] == 0]['Balance']  , color = 'blue' )\n",
    "plt.show()"
   ]
  },
  {
   "cell_type": "markdown",
   "metadata": {},
   "source": [
    "* We can see the distribution of these two groups are quite similar.\n",
    "* Surprisingly some non-churned customers have lower balance than churned customers."
   ]
  },
  {
   "cell_type": "code",
   "execution_count": 111,
   "metadata": {},
   "outputs": [
    {
     "name": "stdout",
     "output_type": "stream",
     "text": [
      "0 percentile value is 0.0\n",
      "10 percentile value is 0.0\n",
      "20 percentile value is 0.0\n",
      "30 percentile value is 0.0\n",
      "40 percentile value is 73194.99\n",
      "50 percentile value is 97266.1\n",
      "60 percentile value is 110203.77\n",
      "70 percentile value is 122104.79\n",
      "80 percentile value is 133800.98\n",
      "90 percentile value is 149332.48\n",
      "100 percentile value is  250898.09\n"
     ]
    }
   ],
   "source": [
    "#calculating 0-100th percentile to find a the correct percentile value for removal of outliers\n",
    "for i in range(0,100,10):\n",
    "    var =data[\"Balance\"].values\n",
    "    var = np.sort(var,axis = None)\n",
    "    print(\"{} percentile value is {}\".format(i,var[int(len(var)*(float(i)/100))]))\n",
    "print (\"100 percentile value is \",var[-1])"
   ]
  },
  {
   "cell_type": "code",
   "execution_count": 112,
   "metadata": {},
   "outputs": [
    {
     "name": "stdout",
     "output_type": "stream",
     "text": [
      "90 percentile value is 149332.48\n",
      "91 percentile value is 151739.65\n",
      "92 percentile value is 153590.73\n",
      "93 percentile value is 156007.09\n",
      "94 percentile value is 159203.71\n",
      "95 percentile value is 163034.82\n",
      "96 percentile value is 166685.92\n",
      "97 percentile value is 170840.08\n",
      "98 percentile value is 176958.46\n",
      "99 percentile value is 185966.64\n",
      "100 percentile value is  250898.09\n"
     ]
    }
   ],
   "source": [
    "#looking further from the 99th percecntile\n",
    "for i in range(90,100):\n",
    "    var =data[\"Balance\"].values\n",
    "    var = np.sort(var,axis = None)\n",
    "    print(\"{} percentile value is {}\".format(i,var[int(len(var)*(float(i)/100))]))\n",
    "print (\"100 percentile value is \",var[-1])"
   ]
  },
  {
   "cell_type": "code",
   "execution_count": 113,
   "metadata": {},
   "outputs": [
    {
     "name": "stdout",
     "output_type": "stream",
     "text": [
      "90 percentile value is 152086.15\n",
      "91 percentile value is 154110.99\n",
      "92 percentile value is 156674.2\n",
      "93 percentile value is 159441.27\n",
      "94 percentile value is 163760.82\n",
      "95 percentile value is 167831.88\n",
      "96 percentile value is 170935.94\n",
      "97 percentile value is 176173.52\n",
      "98 percentile value is 185078.26\n",
      "99 percentile value is 198546.1\n",
      "100 percentile value is  250898.09\n"
     ]
    }
   ],
   "source": [
    "#looking further from the 99th percecntile\n",
    "for i in range(90,100):\n",
    "    var =data[data[\"Exited\"]==1][\"Balance\"].values\n",
    "    var = np.sort(var,axis = None)\n",
    "    print(\"{} percentile value is {}\".format(i,var[int(len(var)*(float(i)/100))]))\n",
    "print (\"100 percentile value is \",var[-1])"
   ]
  },
  {
   "cell_type": "markdown",
   "metadata": {},
   "source": [
    "* Here we can conclude Balance more than 200000 as outlier"
   ]
  },
  {
   "cell_type": "code",
   "execution_count": 114,
   "metadata": {},
   "outputs": [],
   "source": [
    "data=data[data[\"Balance\"]<200000]"
   ]
  },
  {
   "cell_type": "code",
   "execution_count": 115,
   "metadata": {},
   "outputs": [
    {
     "data": {
      "text/plain": [
       "(9894, 14)"
      ]
     },
     "execution_count": 115,
     "metadata": {},
     "output_type": "execute_result"
    }
   ],
   "source": [
    "data.shape"
   ]
  },
  {
   "cell_type": "markdown",
   "metadata": {},
   "source": [
    "### 3.CreditScore"
   ]
  },
  {
   "cell_type": "code",
   "execution_count": 116,
   "metadata": {},
   "outputs": [
    {
     "data": {
      "image/png": "[encoded data removed]",
      "text/plain": [
       "<Figure size 864x576 with 2 Axes>"
      ]
     },
     "metadata": {
      "needs_background": "light"
     },
     "output_type": "display_data"
    }
   ],
   "source": [
    "plt.figure(figsize=(12, 8))\n",
    "\n",
    "plt.subplot(1,2,1)\n",
    "sns.violinplot(x = 'Exited', y = 'CreditScore', data = data)\n",
    "\n",
    "plt.subplot(1,2,2)\n",
    "sns.distplot(data[data['Exited'] == 1]['CreditScore'] , color = 'red')\n",
    "sns.distplot(data[data['Exited'] == 0]['CreditScore']  , color = 'blue' )\n",
    "plt.show()"
   ]
  },
  {
   "cell_type": "markdown",
   "metadata": {},
   "source": [
    " * There is no such difference in CreditScore distribution between retained and churned data.But,There is some outlier which is the customer having very low credit score.Some customers with extremely low credit score (on the left tail) churned, it indicates that really low  quality customer are easily churn than the average quality customer."
   ]
  },
  {
   "cell_type": "code",
   "execution_count": 117,
   "metadata": {},
   "outputs": [
    {
     "name": "stdout",
     "output_type": "stream",
     "text": [
      "0 percentile value is 350\n",
      "10 percentile value is 521\n",
      "20 percentile value is 566\n",
      "30 percentile value is 598\n",
      "40 percentile value is 627\n",
      "50 percentile value is 652\n",
      "60 percentile value is 678\n",
      "70 percentile value is 704\n",
      "80 percentile value is 735\n",
      "90 percentile value is 778\n",
      "100 percentile value is  850\n"
     ]
    }
   ],
   "source": [
    "#calculating 0-100th percentile to find a the correct percentile value for removal of outliers\n",
    "for i in range(0,100,10):\n",
    "    var =data[\"CreditScore\"].values\n",
    "    var = np.sort(var,axis = None)\n",
    "    print(\"{} percentile value is {}\".format(i,var[int(len(var)*(float(i)/100))]))\n",
    "print (\"100 percentile value is \",var[-1])"
   ]
  },
  {
   "cell_type": "code",
   "execution_count": 118,
   "metadata": {},
   "outputs": [
    {
     "name": "stdout",
     "output_type": "stream",
     "text": [
      "0 percentile value is 350\n",
      "1 percentile value is 432\n",
      "2 percentile value is 452\n",
      "3 percentile value is 468\n",
      "4 percentile value is 479\n",
      "5 percentile value is 489\n",
      "6 percentile value is 497\n",
      "7 percentile value is 504\n",
      "8 percentile value is 511\n",
      "9 percentile value is 516\n",
      "100 percentile value is  850\n"
     ]
    }
   ],
   "source": [
    "#looking further from the 99th percecntile\n",
    "for i in range(0,10):\n",
    "    var =data[\"CreditScore\"].values\n",
    "    var = np.sort(var,axis = None)\n",
    "    print(\"{} percentile value is {}\".format(i,var[int(len(var)*(float(i)/100))]))\n",
    "print (\"100 percentile value is \",var[-1])"
   ]
  },
  {
   "cell_type": "markdown",
   "metadata": {},
   "source": [
    "### 4. EstimatedSalary"
   ]
  },
  {
   "cell_type": "code",
   "execution_count": 119,
   "metadata": {},
   "outputs": [
    {
     "data": {
      "image/png": "[encoded data removed]",
      "text/plain": [
       "<Figure size 864x576 with 2 Axes>"
      ]
     },
     "metadata": {
      "needs_background": "light"
     },
     "output_type": "display_data"
    }
   ],
   "source": [
    "plt.figure(figsize=(12, 8))\n",
    "\n",
    "plt.subplot(1,2,1)\n",
    "sns.violinplot(x = 'Exited', y = 'EstimatedSalary', data = data)\n",
    "\n",
    "plt.subplot(1,2,2)\n",
    "sns.distplot(data[data['Exited'] == 1]['EstimatedSalary'] , color = 'red')\n",
    "sns.distplot(data[data['Exited'] == 0]['EstimatedSalary']  , color = 'blue' )\n",
    "plt.show()"
   ]
  },
  {
   "cell_type": "markdown",
   "metadata": {},
   "source": [
    "* Both groups have a very similar distribution. Esimated Salary might not be a very important infomation to decide if a customer will churn or not."
   ]
  },
  {
   "cell_type": "markdown",
   "metadata": {},
   "source": [
    "### Correlation Matrix"
   ]
  },
  {
   "cell_type": "code",
   "execution_count": 120,
   "metadata": {},
   "outputs": [
    {
     "data": {
      "text/plain": [
       "<matplotlib.axes._subplots.AxesSubplot at 0x23a470e59e8>"
      ]
     },
     "execution_count": 120,
     "metadata": {},
     "output_type": "execute_result"
    },
    {
     "data": {
      "image/png": "[encoded data removed]",
      "text/plain": [
       "<Figure size 1080x576 with 2 Axes>"
      ]
     },
     "metadata": {
      "needs_background": "light"
     },
     "output_type": "display_data"
    }
   ],
   "source": [
    "plt.figure(figsize=(15,8))\n",
    "sns.heatmap(data[numerical_variable].corr(),annot=True,)"
   ]
  },
  {
   "cell_type": "markdown",
   "metadata": {},
   "source": [
    "* I don’t see any high correlation between the continuous variables (i.e. no multicollinearity). So I’ll keep all this continuous variables."
   ]
  },
  {
   "cell_type": "code",
   "execution_count": null,
   "metadata": {},
   "outputs": [],
   "source": []
  },
  {
   "cell_type": "markdown",
   "metadata": {},
   "source": [
    "### Categorical Feature"
   ]
  },
  {
   "cell_type": "code",
   "execution_count": 121,
   "metadata": {},
   "outputs": [
    {
     "data": {
      "text/plain": [
       "<matplotlib.axes._subplots.AxesSubplot at 0x23a49015278>"
      ]
     },
     "execution_count": 121,
     "metadata": {},
     "output_type": "execute_result"
    },
    {
     "data": {
      "image/png": "[encoded data removed]",
      "text/plain": [
       "<Figure size 1296x432 with 3 Axes>"
      ]
     },
     "metadata": {
      "needs_background": "light"
     },
     "output_type": "display_data"
    }
   ],
   "source": [
    "_, ax = plt.subplots(1, 3, figsize=(18, 6))\n",
    "sns.countplot(x='Geography',data=data,hue='Exited',ax=ax[0])\n",
    "sns.countplot(x='Gender',data=data,hue='Exited',ax=ax[1])\n",
    "sns.countplot(x='IsActiveMember',data=data,hue='Exited',ax=ax[2])"
   ]
  },
  {
   "cell_type": "markdown",
   "metadata": {},
   "source": [
    "* Majority of data from France\n",
    "* Germany has highest number of churn\n",
    "* Female are more likely to exited than male along all the region\n",
    "* In-active customers are more likely to churn than active \n",
    "* We have an almost equal number of active and non-active members, not a very good sign"
   ]
  },
  {
   "cell_type": "code",
   "execution_count": 122,
   "metadata": {},
   "outputs": [
    {
     "data": {
      "text/plain": [
       "<matplotlib.axes._subplots.AxesSubplot at 0x23a49318b70>"
      ]
     },
     "execution_count": 122,
     "metadata": {},
     "output_type": "execute_result"
    },
    {
     "data": {
      "image/png": "[encoded data removed]",
      "text/plain": [
       "<Figure size 1296x432 with 3 Axes>"
      ]
     },
     "metadata": {
      "needs_background": "light"
     },
     "output_type": "display_data"
    }
   ],
   "source": [
    "_, ax = plt.subplots(1, 3, figsize=(18, 6))\n",
    "sns.countplot(x='NumOfProducts',data=data,hue='Exited',ax=ax[0])\n",
    "sns.countplot(x='HasCrCard',data=data,hue='Exited',ax=ax[1])\n",
    "sns.countplot(x='Tenure',data=data,hue='Exited',ax=ax[2])"
   ]
  },
  {
   "cell_type": "code",
   "execution_count": 123,
   "metadata": {},
   "outputs": [
    {
     "data": {
      "text/html": [
       "<div>\n",
       "<style scoped>\n",
       "    .dataframe tbody tr th:only-of-type {\n",
       "        vertical-align: middle;\n",
       "    }\n",
       "\n",
       "    .dataframe tbody tr th {\n",
       "        vertical-align: top;\n",
       "    }\n",
       "\n",
       "    .dataframe thead th {\n",
       "        text-align: right;\n",
       "    }\n",
       "</style>\n",
       "<table border=\"1\" class=\"dataframe\">\n",
       "  <thead>\n",
       "    <tr style=\"text-align: right;\">\n",
       "      <th>Exited</th>\n",
       "      <th>0</th>\n",
       "      <th>1</th>\n",
       "      <th>Total</th>\n",
       "      <th>percentage</th>\n",
       "    </tr>\n",
       "    <tr>\n",
       "      <th>HasCrCard</th>\n",
       "      <th></th>\n",
       "      <th></th>\n",
       "      <th></th>\n",
       "      <th></th>\n",
       "    </tr>\n",
       "  </thead>\n",
       "  <tbody>\n",
       "    <tr>\n",
       "      <th>0</th>\n",
       "      <td>2306</td>\n",
       "      <td>602</td>\n",
       "      <td>2908</td>\n",
       "      <td>0.207015</td>\n",
       "    </tr>\n",
       "    <tr>\n",
       "      <th>1</th>\n",
       "      <td>5572</td>\n",
       "      <td>1414</td>\n",
       "      <td>6986</td>\n",
       "      <td>0.202405</td>\n",
       "    </tr>\n",
       "  </tbody>\n",
       "</table>\n",
       "</div>"
      ],
      "text/plain": [
       "Exited        0     1  Total  percentage\n",
       "HasCrCard                               \n",
       "0          2306   602   2908    0.207015\n",
       "1          5572  1414   6986    0.202405"
      ]
     },
     "execution_count": 123,
     "metadata": {},
     "output_type": "execute_result"
    }
   ],
   "source": [
    "x=pd.crosstab(index=data[\"HasCrCard\"],columns=data[\"Exited\"])\n",
    "x[\"Total\"]=x.sum(axis=1)\n",
    "x[\"percentage\"]=x[1]/x[\"Total\"]\n",
    "x"
   ]
  },
  {
   "cell_type": "markdown",
   "metadata": {},
   "source": [
    "* Most of the customers use one or two kinds of products, with a very few use three or four products\n",
    "* Customers using 3 or 4 products are more likely to churned\n",
    "* Most of the customers have the bank’s credit card\n",
    "* Percentage of Churn Customers is almost same for both category of HasCrCard.So we can't conclude anything from this feature "
   ]
  },
  {
   "cell_type": "markdown",
   "metadata": {},
   "source": [
    "### FEATURE SELECTION"
   ]
  },
  {
   "cell_type": "markdown",
   "metadata": {},
   "source": [
    "### Chi Square Test"
   ]
  },
  {
   "cell_type": "code",
   "execution_count": 124,
   "metadata": {},
   "outputs": [],
   "source": [
    "#checking Relation b/w categorical variables with respect to target var\n",
    "#Null hypothesis:Features are independent\n",
    "#Alternate Hypothesis:Features are not independent\n",
    "#If Statistic >= Critical Value: significant result, reject null hypothesis (H0), dependent.\n",
    "#If Statistic < Critical Value: not significant result, fail to reject null hypothesis (H0), independent.\n",
    "\n",
    "#If p-value <= alpha: significant result, reject null hypothesis (H0), dependent.\n",
    "#If p-value > alpha: not significant result, fail to reject null hypothesis (H0), independent\n",
    "\n",
    "# If we reject null hypothesis\n",
    "\n",
    "def test_chi2_significance(col,data,alpha=0.05):\n",
    "    from scipy.stats import chi2_contingency\n",
    "    chi_value=[]\n",
    "    p_value=[]\n",
    "    for column in col:\n",
    "        chi2, p, dof, ex =chi2_contingency(pd.crosstab(data['Exited'],data[column]))\n",
    "        chi_value.append(chi2)\n",
    "        p_value.append(p)\n",
    "        print(column)\n",
    "        print('*'*50)\n",
    "        print(\"P-value:{}\".format(p))\n",
    "        if p <= alpha:\n",
    "            print('Dependent (reject H0)')\n",
    "        else:\n",
    "            print('Independent (fail to reject H0)')\n",
    "        print('\\n')   \n",
    "    tab=pd.DataFrame({\"column\":col,\"chi_statistic\":chi_value,\"P_value\":p_value})\n",
    "    return tab\n",
    "        #as above pd.crosstab(dependent variable , independent variable)"
   ]
  },
  {
   "cell_type": "code",
   "execution_count": 125,
   "metadata": {},
   "outputs": [],
   "source": [
    "cat_col=[col for col in data.columns if col not in numerical_variable]"
   ]
  },
  {
   "cell_type": "code",
   "execution_count": 126,
   "metadata": {},
   "outputs": [
    {
     "name": "stdout",
     "output_type": "stream",
     "text": [
      "RowNumber\n",
      "**************************************************\n",
      "P-value:0.49527327588557785\n",
      "Independent (fail to reject H0)\n",
      "\n",
      "\n",
      "CustomerId\n",
      "**************************************************\n",
      "P-value:0.49527327588557785\n",
      "Independent (fail to reject H0)\n",
      "\n",
      "\n",
      "Surname\n",
      "**************************************************\n",
      "P-value:0.9804772562962711\n",
      "Independent (fail to reject H0)\n",
      "\n",
      "\n",
      "Geography\n",
      "**************************************************\n",
      "P-value:7.85498790759565e-69\n",
      "Dependent (reject H0)\n",
      "\n",
      "\n",
      "Gender\n",
      "**************************************************\n",
      "P-value:3.379154590249132e-26\n",
      "Dependent (reject H0)\n",
      "\n",
      "\n",
      "Tenure\n",
      "**************************************************\n",
      "P-value:0.1618912127966001\n",
      "Independent (fail to reject H0)\n",
      "\n",
      "\n",
      "NumOfProducts\n",
      "**************************************************\n",
      "P-value:0.0\n",
      "Dependent (reject H0)\n",
      "\n",
      "\n",
      "HasCrCard\n",
      "**************************************************\n",
      "P-value:0.6232449099231442\n",
      "Independent (fail to reject H0)\n",
      "\n",
      "\n",
      "IsActiveMember\n",
      "**************************************************\n",
      "P-value:5.708167736120028e-54\n",
      "Dependent (reject H0)\n",
      "\n",
      "\n",
      "Exited\n",
      "**************************************************\n",
      "P-value:0.0\n",
      "Dependent (reject H0)\n",
      "\n",
      "\n"
     ]
    },
    {
     "data": {
      "text/html": [
       "<div>\n",
       "<style scoped>\n",
       "    .dataframe tbody tr th:only-of-type {\n",
       "        vertical-align: middle;\n",
       "    }\n",
       "\n",
       "    .dataframe tbody tr th {\n",
       "        vertical-align: top;\n",
       "    }\n",
       "\n",
       "    .dataframe thead th {\n",
       "        text-align: right;\n",
       "    }\n",
       "</style>\n",
       "<table border=\"1\" class=\"dataframe\">\n",
       "  <thead>\n",
       "    <tr style=\"text-align: right;\">\n",
       "      <th></th>\n",
       "      <th>column</th>\n",
       "      <th>chi_statistic</th>\n",
       "      <th>P_value</th>\n",
       "    </tr>\n",
       "  </thead>\n",
       "  <tbody>\n",
       "    <tr>\n",
       "      <th>0</th>\n",
       "      <td>RowNumber</td>\n",
       "      <td>9894.000000</td>\n",
       "      <td>4.952733e-01</td>\n",
       "    </tr>\n",
       "    <tr>\n",
       "      <th>1</th>\n",
       "      <td>CustomerId</td>\n",
       "      <td>9894.000000</td>\n",
       "      <td>4.952733e-01</td>\n",
       "    </tr>\n",
       "    <tr>\n",
       "      <th>2</th>\n",
       "      <td>Surname</td>\n",
       "      <td>2759.607506</td>\n",
       "      <td>9.804773e-01</td>\n",
       "    </tr>\n",
       "    <tr>\n",
       "      <th>3</th>\n",
       "      <td>Geography</td>\n",
       "      <td>313.634445</td>\n",
       "      <td>7.854988e-69</td>\n",
       "    </tr>\n",
       "    <tr>\n",
       "      <th>4</th>\n",
       "      <td>Gender</td>\n",
       "      <td>112.110647</td>\n",
       "      <td>3.379155e-26</td>\n",
       "    </tr>\n",
       "    <tr>\n",
       "      <th>5</th>\n",
       "      <td>Tenure</td>\n",
       "      <td>14.249988</td>\n",
       "      <td>1.618912e-01</td>\n",
       "    </tr>\n",
       "    <tr>\n",
       "      <th>6</th>\n",
       "      <td>NumOfProducts</td>\n",
       "      <td>1501.661197</td>\n",
       "      <td>0.000000e+00</td>\n",
       "    </tr>\n",
       "    <tr>\n",
       "      <th>7</th>\n",
       "      <td>HasCrCard</td>\n",
       "      <td>0.241333</td>\n",
       "      <td>6.232449e-01</td>\n",
       "    </tr>\n",
       "    <tr>\n",
       "      <th>8</th>\n",
       "      <td>IsActiveMember</td>\n",
       "      <td>239.257995</td>\n",
       "      <td>5.708168e-54</td>\n",
       "    </tr>\n",
       "    <tr>\n",
       "      <th>9</th>\n",
       "      <td>Exited</td>\n",
       "      <td>9887.837319</td>\n",
       "      <td>0.000000e+00</td>\n",
       "    </tr>\n",
       "  </tbody>\n",
       "</table>\n",
       "</div>"
      ],
      "text/plain": [
       "           column  chi_statistic       P_value\n",
       "0       RowNumber    9894.000000  4.952733e-01\n",
       "1      CustomerId    9894.000000  4.952733e-01\n",
       "2         Surname    2759.607506  9.804773e-01\n",
       "3       Geography     313.634445  7.854988e-69\n",
       "4          Gender     112.110647  3.379155e-26\n",
       "5          Tenure      14.249988  1.618912e-01\n",
       "6   NumOfProducts    1501.661197  0.000000e+00\n",
       "7       HasCrCard       0.241333  6.232449e-01\n",
       "8  IsActiveMember     239.257995  5.708168e-54\n",
       "9          Exited    9887.837319  0.000000e+00"
      ]
     },
     "execution_count": 126,
     "metadata": {},
     "output_type": "execute_result"
    }
   ],
   "source": [
    "test_chi2_significance(cat_col,data)"
   ]
  },
  {
   "cell_type": "markdown",
   "metadata": {},
   "source": [
    "* Every values in column RowNumber and CustomerId are distinct.These Features are not relevant to our model.So drop this feature\n",
    "* The p-values for Tenure and HasCrCard are greater than 0.05,Hence we fail to reject the null hypothesis which means these features are independent to our target variable\n",
    "* Hence we drop these  features"
   ]
  },
  {
   "cell_type": "code",
   "execution_count": 128,
   "metadata": {},
   "outputs": [
    {
     "data": {
      "text/html": [
       "<div>\n",
       "<style scoped>\n",
       "    .dataframe tbody tr th:only-of-type {\n",
       "        vertical-align: middle;\n",
       "    }\n",
       "\n",
       "    .dataframe tbody tr th {\n",
       "        vertical-align: top;\n",
       "    }\n",
       "\n",
       "    .dataframe thead th {\n",
       "        text-align: right;\n",
       "    }\n",
       "</style>\n",
       "<table border=\"1\" class=\"dataframe\">\n",
       "  <thead>\n",
       "    <tr style=\"text-align: right;\">\n",
       "      <th></th>\n",
       "      <th>CreditScore</th>\n",
       "      <th>Geography</th>\n",
       "      <th>Gender</th>\n",
       "      <th>Age</th>\n",
       "      <th>Balance</th>\n",
       "      <th>NumOfProducts</th>\n",
       "      <th>IsActiveMember</th>\n",
       "      <th>EstimatedSalary</th>\n",
       "      <th>Exited</th>\n",
       "    </tr>\n",
       "  </thead>\n",
       "  <tbody>\n",
       "    <tr>\n",
       "      <th>0</th>\n",
       "      <td>619</td>\n",
       "      <td>France</td>\n",
       "      <td>Female</td>\n",
       "      <td>42</td>\n",
       "      <td>0.00</td>\n",
       "      <td>1</td>\n",
       "      <td>1</td>\n",
       "      <td>101348.88</td>\n",
       "      <td>1</td>\n",
       "    </tr>\n",
       "    <tr>\n",
       "      <th>1</th>\n",
       "      <td>608</td>\n",
       "      <td>Spain</td>\n",
       "      <td>Female</td>\n",
       "      <td>41</td>\n",
       "      <td>83807.86</td>\n",
       "      <td>1</td>\n",
       "      <td>1</td>\n",
       "      <td>112542.58</td>\n",
       "      <td>0</td>\n",
       "    </tr>\n",
       "    <tr>\n",
       "      <th>2</th>\n",
       "      <td>502</td>\n",
       "      <td>France</td>\n",
       "      <td>Female</td>\n",
       "      <td>42</td>\n",
       "      <td>159660.80</td>\n",
       "      <td>3</td>\n",
       "      <td>0</td>\n",
       "      <td>113931.57</td>\n",
       "      <td>1</td>\n",
       "    </tr>\n",
       "    <tr>\n",
       "      <th>3</th>\n",
       "      <td>699</td>\n",
       "      <td>France</td>\n",
       "      <td>Female</td>\n",
       "      <td>39</td>\n",
       "      <td>0.00</td>\n",
       "      <td>2</td>\n",
       "      <td>0</td>\n",
       "      <td>93826.63</td>\n",
       "      <td>0</td>\n",
       "    </tr>\n",
       "    <tr>\n",
       "      <th>4</th>\n",
       "      <td>850</td>\n",
       "      <td>Spain</td>\n",
       "      <td>Female</td>\n",
       "      <td>43</td>\n",
       "      <td>125510.82</td>\n",
       "      <td>1</td>\n",
       "      <td>1</td>\n",
       "      <td>79084.10</td>\n",
       "      <td>0</td>\n",
       "    </tr>\n",
       "  </tbody>\n",
       "</table>\n",
       "</div>"
      ],
      "text/plain": [
       "   CreditScore Geography  Gender  Age    Balance  NumOfProducts  \\\n",
       "0          619    France  Female   42       0.00              1   \n",
       "1          608     Spain  Female   41   83807.86              1   \n",
       "2          502    France  Female   42  159660.80              3   \n",
       "3          699    France  Female   39       0.00              2   \n",
       "4          850     Spain  Female   43  125510.82              1   \n",
       "\n",
       "   IsActiveMember  EstimatedSalary  Exited  \n",
       "0               1        101348.88       1  \n",
       "1               1        112542.58       0  \n",
       "2               0        113931.57       1  \n",
       "3               0         93826.63       0  \n",
       "4               1         79084.10       0  "
      ]
     },
     "execution_count": 128,
     "metadata": {},
     "output_type": "execute_result"
    }
   ],
   "source": [
    "data.head()"
   ]
  },
  {
   "cell_type": "code",
   "execution_count": 127,
   "metadata": {},
   "outputs": [],
   "source": [
    "#Drop unnecessary features\n",
    "data.drop([\"RowNumber\",\"CustomerId\",\"Surname\",\"Tenure\",\"HasCrCard\"],axis=1,inplace=True)"
   ]
  },
  {
   "cell_type": "raw",
   "metadata": {},
   "source": [
    "#observation=>\n",
    "This data has 10 numeric feature and 3 categorical feature\n",
    " Machine learning Model doesn't do well for text feature . \n",
    " So we need to convert this categorical feature into numerical by encoding"
   ]
  },
  {
   "cell_type": "code",
   "execution_count": 133,
   "metadata": {},
   "outputs": [],
   "source": [
    "#Convert categorical feature into numerical feature by using one-hot encoding\n",
    "state=pd.get_dummies(data['Geography'])\n",
    "gender=pd.get_dummies(data['Gender'])\n",
    "\n",
    "#concatenate newly created feature with X\n",
    "data=pd.concat([data,state,gender],axis=1)\n",
    "\n",
    "#Drop unnecessary features by droping column wise\n",
    "data.drop(['Geography','Gender'],inplace=True,axis=1)"
   ]
  },
  {
   "cell_type": "code",
   "execution_count": 200,
   "metadata": {},
   "outputs": [],
   "source": [
    "X=data.drop(['Exited'],axis=1)\n",
    "y=data['Exited']"
   ]
  },
  {
   "cell_type": "code",
   "execution_count": 201,
   "metadata": {},
   "outputs": [],
   "source": [
    "X_train,X_test,y_train,y_test=train_test_split(X,y,test_size=0.2,random_state=0,stratify=y)"
   ]
  },
  {
   "cell_type": "code",
   "execution_count": null,
   "metadata": {},
   "outputs": [],
   "source": []
  },
  {
   "cell_type": "code",
   "execution_count": 202,
   "metadata": {},
   "outputs": [],
   "source": [
    "#create instance of StandardScaler\n",
    "scaler=StandardScaler()\n",
    "X_train_scaled=scaler.fit_transform(X_train)\n",
    "X_test_scaled=scaler.transform(X_test)"
   ]
  },
  {
   "cell_type": "markdown",
   "metadata": {},
   "source": [
    "SAMPLING"
   ]
  },
  {
   "cell_type": "raw",
   "metadata": {},
   "source": [
    "Since only 20% of the dataset is churned while almost 80% dataare for retained customer,This dataset is considered to be imbalanced data\n",
    "We can overcome this problem either by over-sampling(adding minority class) or under-sampling(removing majority class)\n",
    "Here We used over-sampling method named as SMOTE (Synthetic Minority Oversampling Method)"
   ]
  },
  {
   "cell_type": "code",
   "execution_count": 336,
   "metadata": {},
   "outputs": [],
   "source": [
    "#import packages for SMOTE\n",
    "from imblearn.over_sampling import SMOTE\n",
    "over_sampling=SMOTE(random_state=42)\n",
    "X_train_smote,y_train_smote=over_sampling.fit_sample(X_train_scaled,y_train)\n"
   ]
  },
  {
   "cell_type": "code",
   "execution_count": 337,
   "metadata": {},
   "outputs": [
    {
     "name": "stdout",
     "output_type": "stream",
     "text": [
      "No of retained customer after sampling 6302 and no of churned customer after sampling 6302\n"
     ]
    }
   ],
   "source": [
    "#print(\"No of retained customer before sampling {} and no of churned customer before sampling {}\".format(Counter(y_train)[0],Counter(y_train)[1]))\n",
    "print(\"No of retained customer after sampling {} and no of churned customer after sampling {}\".format(Counter(y_train)[0],Counter(y_train_smote)[1]))"
   ]
  },
  {
   "cell_type": "markdown",
   "metadata": {},
   "source": [
    "CREATE ANN MODEL"
   ]
  },
  {
   "cell_type": "code",
   "execution_count": 157,
   "metadata": {},
   "outputs": [],
   "source": [
    "from keras import backend as K\n",
    "def recall_m(y_true, y_pred):\n",
    "    true_positives = K.sum(K.round(K.clip(y_true * y_pred, 0, 1)))\n",
    "    possible_positives = K.sum(K.round(K.clip(y_true, 0, 1)))\n",
    "    recall = true_positives / (possible_positives + K.epsilon())\n",
    "    return recall\n",
    "\n",
    "def precision_m(y_true, y_pred):\n",
    "    true_positives = K.sum(K.round(K.clip(y_true * y_pred, 0, 1)))\n",
    "    predicted_positives = K.sum(K.round(K.clip(y_pred, 0, 1)))\n",
    "    precision = true_positives / (predicted_positives + K.epsilon())\n",
    "    return precision\n",
    "def f1_m(y_true, y_pred):\n",
    "    precision = precision_m(y_true, y_pred)\n",
    "    recall = recall_m(y_true, y_pred)\n",
    "    return 2*((precision*recall)/(precision+recall+K.epsilon()))"
   ]
  },
  {
   "cell_type": "code",
   "execution_count": 338,
   "metadata": {},
   "outputs": [],
   "source": [
    "#Initialising the ANN\n",
    "model=Sequential()\n",
    "#add input layer and first hidden layer\n",
    "model.add(Dense(6,input_shape=(X_train.shape[1],),activation='relu',kernel_initializer='uniform'))\n",
    "model.add(BatchNormalization())\n",
    "#add second hidden layer\n",
    "model.add(Dense(6,activation='relu',kernel_initializer='uniform'))\n",
    "model.add(BatchNormalization())\n",
    "#add third hidden layer\n",
    "model.add(Dense(6,activation='relu',kernel_initializer='uniform'))\n",
    "model.add(BatchNormalization())\n",
    "#add output layer\n",
    "model.add(Dense(1,activation='sigmoid',kernel_initializer='uniform'))\n",
    "#compiling the ANN\n",
    "model.compile(optimizer = 'Adam', loss = 'binary_crossentropy', metrics = [recall_m])"
   ]
  },
  {
   "cell_type": "code",
   "execution_count": 339,
   "metadata": {},
   "outputs": [
    {
     "name": "stdout",
     "output_type": "stream",
     "text": [
      "Model: \"sequential_6\"\n",
      "_________________________________________________________________\n",
      "Layer (type)                 Output Shape              Param #   \n",
      "=================================================================\n",
      "dense_21 (Dense)             (None, 6)                 72        \n",
      "_________________________________________________________________\n",
      "batch_normalization_16 (Batc (None, 6)                 24        \n",
      "_________________________________________________________________\n",
      "dense_22 (Dense)             (None, 6)                 42        \n",
      "_________________________________________________________________\n",
      "batch_normalization_17 (Batc (None, 6)                 24        \n",
      "_________________________________________________________________\n",
      "dense_23 (Dense)             (None, 6)                 42        \n",
      "_________________________________________________________________\n",
      "batch_normalization_18 (Batc (None, 6)                 24        \n",
      "_________________________________________________________________\n",
      "dense_24 (Dense)             (None, 1)                 7         \n",
      "=================================================================\n",
      "Total params: 235\n",
      "Trainable params: 199\n",
      "Non-trainable params: 36\n",
      "_________________________________________________________________\n"
     ]
    }
   ],
   "source": [
    "model.summary()"
   ]
  },
  {
   "cell_type": "code",
   "execution_count": 373,
   "metadata": {},
   "outputs": [],
   "source": [
    "early_stopping=EarlyStopping(\n",
    "    monitor='val_recall_m', min_delta=0, patience=5, verbose=0, mode='auto'\n",
    ")"
   ]
  },
  {
   "cell_type": "code",
   "execution_count": 374,
   "metadata": {},
   "outputs": [],
   "source": [
    "#reduce learning rate when loss stops improving\n",
    "ReduceLR=ReduceLROnPlateau(monitor='val_recall_m', \n",
    "                                     factor=0.5, \n",
    "                                     verbose=1,\n",
    "                                     patience=3,\n",
    "                                     mode='auto',\n",
    "                                     min_lr=0.00001\n",
    "                                     )"
   ]
  },
  {
   "cell_type": "code",
   "execution_count": 375,
   "metadata": {
    "scrolled": true
   },
   "outputs": [
    {
     "name": "stdout",
     "output_type": "stream",
     "text": [
      "Train on 10083 samples, validate on 2521 samples\n",
      "Epoch 1/100\n",
      "10083/10083 [==============================] - 1s 91us/step - loss: 0.4050 - recall_m: 0.6820 - val_loss: 0.5914 - val_recall_m: 0.6707\n",
      "Epoch 2/100\n",
      "10083/10083 [==============================] - 1s 88us/step - loss: 0.4033 - recall_m: 0.6868 - val_loss: 0.5894 - val_recall_m: 0.6743\n",
      "Epoch 3/100\n",
      "10083/10083 [==============================] - 1s 88us/step - loss: 0.4058 - recall_m: 0.6820 - val_loss: 0.5885 - val_recall_m: 0.6731\n",
      "Epoch 4/100\n",
      "10083/10083 [==============================] - 1s 89us/step - loss: 0.4037 - recall_m: 0.6819 - val_loss: 0.5908 - val_recall_m: 0.6739\n",
      "\n",
      "Epoch 00004: ReduceLROnPlateau reducing learning rate to 3.125000148429535e-05.\n",
      "Epoch 5/100\n",
      "10083/10083 [==============================] - 1s 90us/step - loss: 0.4029 - recall_m: 0.6806 - val_loss: 0.5835 - val_recall_m: 0.6762\n",
      "Epoch 6/100\n",
      "10083/10083 [==============================] - 1s 94us/step - loss: 0.4043 - recall_m: 0.6801 - val_loss: 0.5861 - val_recall_m: 0.6746\n"
     ]
    }
   ],
   "source": [
    "#Fitting the ANN to the training set\n",
    "history=model.fit(X_train_smote,y_train_smote,epochs=100,batch_size=64,validation_split=0.2,callbacks=[early_stopping,ReduceLR])"
   ]
  },
  {
   "cell_type": "code",
   "execution_count": 376,
   "metadata": {},
   "outputs": [
    {
     "name": "stdout",
     "output_type": "stream",
     "text": [
      "1979/1979 [==============================] - 0s 59us/step\n",
      "loss value of model is 0.3752561866966024 and accuracy is 0.6348403692245483\n"
     ]
    }
   ],
   "source": [
    "#evaluate model performance\n",
    "eva=model.evaluate(X_test_scaled,y_test)\n",
    "print(\"loss value of model is {} and accuracy is {}\".format(eva[0],eva[1]))"
   ]
  },
  {
   "cell_type": "code",
   "execution_count": 377,
   "metadata": {},
   "outputs": [
    {
     "name": "stdout",
     "output_type": "stream",
     "text": [
      "Accuracy is: 0.8489135927235978\n",
      "**************************************************\n",
      "weighted F1_score is :0.848843709385776\n",
      "**************************************************\n",
      "Beta F1_score is :0.848885574665526\n",
      "**************************************************\n",
      "Recall score is :0.8489135927235978\n",
      "**************************************************\n",
      "ROC_AUC score is :0.7666242080336562\n",
      "**************************************************\n",
      "Classification report:\n",
      "              precision    recall  f1-score   support\n",
      "\n",
      "           0       0.90      0.91      0.91      1576\n",
      "           1       0.63      0.63      0.63       403\n",
      "\n",
      "    accuracy                           0.85      1979\n",
      "   macro avg       0.77      0.77      0.77      1979\n",
      "weighted avg       0.85      0.85      0.85      1979\n",
      "\n",
      "**************************************************\n",
      "confusion matrix:\n",
      "[[1427  149]\n",
      " [ 150  253]]\n"
     ]
    }
   ],
   "source": [
    "prediction = model.predict(X_test_normalized)\n",
    "y_pred=[]\n",
    "for i in range(len(prediction)):\n",
    "    if prediction[i]>0.5:\n",
    "        y_pred.append(1)\n",
    "    else:\n",
    "        y_pred.append(0)\n",
    "\n",
    "print(\"Accuracy is: {}\".format(accuracy_score(y_test,y_pred)))\n",
    "print('*'*50)\n",
    "print(\"weighted F1_score is :{}\".format(f1_score(y_test,y_pred,average='weighted')))\n",
    "print('*'*50)\n",
    "print(\"Beta F1_score is :{}\".format(fbeta_score(y_test,y_pred,average='weighted',beta=2)))\n",
    "print('*'*50)\n",
    "print(\"Recall score is :{}\".format(recall_score(y_test,y_pred,average='weighted')))\n",
    "print('*'*50)\n",
    "print(\"ROC_AUC score is :{}\".format(roc_auc_score(y_test,y_pred)))\n",
    "print('*'*50)\n",
    "print(\"Classification report:\")\n",
    "print(classification_report(y_test,y_pred))\n",
    "print('*'*50)\n",
    "print(\"confusion matrix:\")\n",
    "print(confusion_matrix(y_test,y_pred))"
   ]
  },
  {
   "cell_type": "markdown",
   "metadata": {},
   "source": [
    "VISUALIZING MODEL PERFORMANCE"
   ]
  },
  {
   "cell_type": "code",
   "execution_count": 379,
   "metadata": {},
   "outputs": [
    {
     "data": {
      "image/png": "[encoded data removed]",
      "text/plain": [
       "<Figure size 432x288 with 1 Axes>"
      ]
     },
     "metadata": {
      "needs_background": "light"
     },
     "output_type": "display_data"
    }
   ],
   "source": [
    "# Plot train vs test accuracy per epoch\n",
    "plt.figure()\n",
    "# Use the history metrics\n",
    "plt.plot(history.history['recall_m'])\n",
    "plt.plot(history.history['val_recall_m'])\n",
    "# Make it pretty\n",
    "plt.title('Model accuracy')\n",
    "plt.ylabel('Accuracy')\n",
    "plt.xlabel('Epoch')\n",
    "plt.legend(['Train', 'Test'])\n",
    "plt.show()"
   ]
  },
  {
   "cell_type": "code",
   "execution_count": 381,
   "metadata": {},
   "outputs": [],
   "source": [
    "#import libraries for modelling\n",
    "from sklearn.model_selection import train_test_split,cross_val_score,learning_curve,RandomizedSearchCV,KFold,LeaveOneOut\n",
    "from sklearn.preprocessing import StandardScaler,LabelEncoder\n",
    "from sklearn.metrics import accuracy_score,confusion_matrix,auc,roc_curve,roc_auc_score,classification_report,make_scorer\n",
    "from sklearn.tree import DecisionTreeClassifier,export_graphviz\n",
    "from sklearn.ensemble import AdaBoostClassifier,GradientBoostingClassifier,RandomForestClassifier\n",
    "from sklearn.linear_model import LogisticRegression\n",
    "from sklearn.neighbors import KNeighborsClassifier\n",
    "from sklearn.svm import SVC"
   ]
  },
  {
   "cell_type": "code",
   "execution_count": 382,
   "metadata": {},
   "outputs": [],
   "source": [
    "#instantiate different model for tuning\n",
    "tree=DecisionTreeClassifier(random_state=42)\n",
    "forest=RandomForestClassifier(random_state=42)\n",
    "lr=LogisticRegression(random_state=42)\n",
    "svc=SVC(random_state=42)"
   ]
  },
  {
   "cell_type": "code",
   "execution_count": 263,
   "metadata": {},
   "outputs": [],
   "source": [
    "#initialise hyperparameter for tuning\n",
    "random_forest_param={'n_estimators':[int(x) for x in np.linspace(start=100,stop=2000,num=10)],\n",
    "                     'criterion':['gini','entropy'],\n",
    "                     'max_depth':[int(x) for x in np.linspace(start=5,stop=50,num=15)]+[None]}\n",
    "decision_tree_param={'criterion':['gini','entropy'],\n",
    "                     'min_samples_leaf':[1,2,3,4]}\n",
    "svm_param = {'C':[0.001, 0.01, 0.1, 1],\n",
    "             'gamma':[0.00001, 0.0001, 0.001,0.005, 0.01,0.05, 0.1],\n",
    "             'kernel':[\"linear\",\"rbf\"]}\n",
    "log_reg_param={'C':[0.0001,0.001,0.01,0.1,1,10]}"
   ]
  },
  {
   "cell_type": "code",
   "execution_count": 264,
   "metadata": {},
   "outputs": [],
   "source": [
    "#function for RandomizedSearchCV\n",
    "def search(estimator,parameter,X_train,y_train):\n",
    "    tune_model=RandomizedSearchCV(estimator=estimator,\n",
    "                                      param_distributions=parameter,\n",
    "                                      n_iter=100,cv=5,verbose=2,\n",
    "                                      random_state=42,n_jobs=-1,refit=True,scoring=\"f1\")\n",
    "    tune_model.fit(X_train,y_train)\n",
    "    return tune_model"
   ]
  },
  {
   "cell_type": "code",
   "execution_count": 265,
   "metadata": {},
   "outputs": [],
   "source": [
    "#function to evaluate the classification model\n",
    "def metrics(test,prediction):\n",
    "    return confusion_matrix(test,prediction,[0,1]),classification_report(test,prediction),roc_auc_score(test,prediction)"
   ]
  },
  {
   "cell_type": "code",
   "execution_count": 254,
   "metadata": {},
   "outputs": [],
   "source": [
    "from imblearn.pipeline import Pipeline, make_pipeline"
   ]
  },
  {
   "cell_type": "code",
   "execution_count": 308,
   "metadata": {},
   "outputs": [],
   "source": [
    "def model_pipeline(params,model,X_train, y_train):\n",
    "    from sklearn.model_selection import StratifiedKFold\n",
    "    kf = StratifiedKFold(n_splits=5, random_state=42, shuffle=False)\n",
    "    #imba_pipeline = Pipeline(SMOTE(random_state=42),model)\n",
    "    pipeline = Pipeline([(\"smote\", SMOTE(random_state=42)), (\"model\", model)])\n",
    "    new_params = {'model__' + key: params[key] for key in params}\n",
    "    grid_imba = RandomizedSearchCV(pipeline, new_params, cv=kf, scoring='recall',\n",
    "                        return_train_score=True)\n",
    "    grid_imba.fit(X_train, y_train)\n",
    "    return grid_imba"
   ]
  },
  {
   "cell_type": "markdown",
   "metadata": {},
   "source": [
    "## Logistic Regression"
   ]
  },
  {
   "cell_type": "code",
   "execution_count": 309,
   "metadata": {},
   "outputs": [
    {
     "name": "stderr",
     "output_type": "stream",
     "text": [
      "C:\\Users\\RN7\\Anaconda3\\envs\\tensorflow\\lib\\site-packages\\sklearn\\model_selection\\_split.py:296: FutureWarning: Setting a random_state has no effect since shuffle is False. This will raise an error in 0.24. You should leave random_state to its default (None), or set shuffle=True.\n",
      "  FutureWarning\n",
      "C:\\Users\\RN7\\Anaconda3\\envs\\tensorflow\\lib\\site-packages\\sklearn\\model_selection\\_search.py:281: UserWarning: The total space of parameters 6 is smaller than n_iter=10. Running 6 iterations. For exhaustive searches, use GridSearchCV.\n",
      "  % (grid_size, self.n_iter, grid_size), UserWarning)\n"
     ]
    }
   ],
   "source": [
    "lr_model=model_pipeline(log_reg_param,lr,X_train_scaled,y_train)"
   ]
  },
  {
   "cell_type": "code",
   "execution_count": 291,
   "metadata": {},
   "outputs": [
    {
     "data": {
      "text/plain": [
       "dict_keys(['explained_variance', 'r2', 'max_error', 'neg_median_absolute_error', 'neg_mean_absolute_error', 'neg_mean_squared_error', 'neg_mean_squared_log_error', 'neg_root_mean_squared_error', 'neg_mean_poisson_deviance', 'neg_mean_gamma_deviance', 'accuracy', 'roc_auc', 'roc_auc_ovr', 'roc_auc_ovo', 'roc_auc_ovr_weighted', 'roc_auc_ovo_weighted', 'balanced_accuracy', 'average_precision', 'neg_log_loss', 'neg_brier_score', 'adjusted_rand_score', 'homogeneity_score', 'completeness_score', 'v_measure_score', 'mutual_info_score', 'adjusted_mutual_info_score', 'normalized_mutual_info_score', 'fowlkes_mallows_score', 'precision', 'precision_macro', 'precision_micro', 'precision_samples', 'precision_weighted', 'recall', 'recall_macro', 'recall_micro', 'recall_samples', 'recall_weighted', 'f1', 'f1_macro', 'f1_micro', 'f1_samples', 'f1_weighted', 'jaccard', 'jaccard_macro', 'jaccard_micro', 'jaccard_samples', 'jaccard_weighted'])"
      ]
     },
     "execution_count": 291,
     "metadata": {},
     "output_type": "execute_result"
    }
   ],
   "source": [
    "sklearn.metrics.SCORERS.keys()"
   ]
  },
  {
   "cell_type": "code",
   "execution_count": 310,
   "metadata": {},
   "outputs": [
    {
     "data": {
      "text/plain": [
       "({'model__C': 0.01}, 0.6912658885064322)"
      ]
     },
     "execution_count": 310,
     "metadata": {},
     "output_type": "execute_result"
    }
   ],
   "source": [
    "lr_model.best_params_,lr_model.best_score_"
   ]
  },
  {
   "cell_type": "code",
   "execution_count": 311,
   "metadata": {},
   "outputs": [
    {
     "name": "stdout",
     "output_type": "stream",
     "text": [
      "Accuracy is: 0.7286508337544214\n",
      "**************************************************\n",
      "weighted F1_score is :0.7509181017578498\n",
      "**************************************************\n",
      "Beta F1_score is :0.7332811632049745\n",
      "**************************************************\n",
      "Recall score is :0.7286508337544214\n",
      "**************************************************\n",
      "ROC_AUC score is :0.7169727991837865\n",
      "**************************************************\n",
      "Classification report:\n",
      "              precision    recall  f1-score   support\n",
      "\n",
      "           0       0.90      0.74      0.81      1576\n",
      "           1       0.40      0.70      0.51       403\n",
      "\n",
      "    accuracy                           0.73      1979\n",
      "   macro avg       0.65      0.72      0.66      1979\n",
      "weighted avg       0.80      0.73      0.75      1979\n",
      "\n",
      "**************************************************\n",
      "confusion matrix:\n",
      "[[1161  415]\n",
      " [ 122  281]]\n"
     ]
    }
   ],
   "source": [
    "y_pred=lr_model.predict(X_test_scaled)\n",
    "print(\"Accuracy is: {}\".format(accuracy_score(y_test,y_pred)))\n",
    "print('*'*50)\n",
    "print(\"weighted F1_score is :{}\".format(f1_score(y_test,y_pred,average='weighted')))\n",
    "print('*'*50)\n",
    "print(\"Beta F1_score is :{}\".format(fbeta_score(y_test,y_pred,average='weighted',beta=2)))\n",
    "print('*'*50)\n",
    "print(\"Recall score is :{}\".format(recall_score(y_test,y_pred,average='micro')))\n",
    "print('*'*50)\n",
    "print(\"ROC_AUC score is :{}\".format(roc_auc_score(y_test,y_pred)))\n",
    "print('*'*50)\n",
    "print(\"Classification report:\")\n",
    "print(classification_report(y_test,y_pred))\n",
    "print('*'*50)\n",
    "print(\"confusion matrix:\")\n",
    "print(confusion_matrix(y_test,y_pred))"
   ]
  },
  {
   "cell_type": "code",
   "execution_count": null,
   "metadata": {},
   "outputs": [],
   "source": []
  },
  {
   "cell_type": "code",
   "execution_count": 258,
   "metadata": {},
   "outputs": [
    {
     "data": {
      "text/plain": [
       "({'model__C': 1}, 0.6923160327967766)"
      ]
     },
     "execution_count": 258,
     "metadata": {},
     "output_type": "execute_result"
    }
   ],
   "source": [
    "lr_model.best_params_,lr_model.best_score_"
   ]
  },
  {
   "cell_type": "code",
   "execution_count": 262,
   "metadata": {},
   "outputs": [
    {
     "name": "stdout",
     "output_type": "stream",
     "text": [
      "Accuracy is: 0.7271349166245579\n",
      "**************************************************\n",
      "F1_score is :0.5099818511796733\n",
      "**************************************************\n",
      "Recall score is :0.6972704714640199\n",
      "**************************************************\n",
      "ROC_AUC score is :0.7160210225340405\n",
      "**************************************************\n",
      "Classification report:\n",
      "              precision    recall  f1-score   support\n",
      "\n",
      "           0       0.90      0.73      0.81      1576\n",
      "           1       0.40      0.70      0.51       403\n",
      "\n",
      "    accuracy                           0.73      1979\n",
      "   macro avg       0.65      0.72      0.66      1979\n",
      "weighted avg       0.80      0.73      0.75      1979\n",
      "\n",
      "**************************************************\n",
      "confusion matrix:\n",
      "[[1158  418]\n",
      " [ 122  281]]\n"
     ]
    }
   ],
   "source": [
    "y_pred=lr_model.predict(X_test_scaled)\n",
    "print(\"Accuracy is: {}\".format(accuracy_score(y_test,y_pred)))\n",
    "print('*'*50)\n",
    "print(\"F1_score is :{}\".format(f1_score(y_test,y_pred)))\n",
    "print('*'*50)\n",
    "print(\"Recall score is :{}\".format(recall_score(y_test,y_pred)))\n",
    "print('*'*50)\n",
    "print(\"ROC_AUC score is :{}\".format(roc_auc_score(y_test,y_pred)))\n",
    "print('*'*50)\n",
    "print(\"Classification report:\")\n",
    "print(classification_report(y_test,y_pred))\n",
    "print('*'*50)\n",
    "print(\"confusion matrix:\")\n",
    "print(confusion_matrix(y_test,y_pred))"
   ]
  },
  {
   "cell_type": "markdown",
   "metadata": {},
   "source": [
    "## RandomForest Classifier"
   ]
  },
  {
   "cell_type": "code",
   "execution_count": 312,
   "metadata": {},
   "outputs": [
    {
     "name": "stderr",
     "output_type": "stream",
     "text": [
      "C:\\Users\\RN7\\Anaconda3\\envs\\tensorflow\\lib\\site-packages\\sklearn\\model_selection\\_split.py:296: FutureWarning: Setting a random_state has no effect since shuffle is False. This will raise an error in 0.24. You should leave random_state to its default (None), or set shuffle=True.\n",
      "  FutureWarning\n"
     ]
    }
   ],
   "source": [
    "rf_model=model_pipeline(random_forest_param,forest,X_train,y_train)"
   ]
  },
  {
   "cell_type": "code",
   "execution_count": 313,
   "metadata": {},
   "outputs": [
    {
     "data": {
      "text/plain": [
       "({'model__n_estimators': 944,\n",
       "  'model__max_depth': 5,\n",
       "  'model__criterion': 'entropy'},\n",
       " 0.6069149856739035)"
      ]
     },
     "execution_count": 313,
     "metadata": {},
     "output_type": "execute_result"
    }
   ],
   "source": [
    "rf_model.best_params_,rf_model.best_score_"
   ]
  },
  {
   "cell_type": "code",
   "execution_count": 319,
   "metadata": {},
   "outputs": [
    {
     "name": "stdout",
     "output_type": "stream",
     "text": [
      "Accuracy is: 0.8206164729661445\n",
      "**************************************************\n",
      "weighted F1_score is :0.8213501012370538\n",
      "**************************************************\n",
      "Beta F1_score is :0.8209051163269703\n",
      "**************************************************\n",
      "Recall score is :0.8206164729661445\n",
      "**************************************************\n",
      "ROC_AUC score is :0.7276186847375646\n",
      "**************************************************\n",
      "Classification report:\n",
      "              precision    recall  f1-score   support\n",
      "\n",
      "           0       0.89      0.88      0.89      1576\n",
      "           1       0.56      0.57      0.56       403\n",
      "\n",
      "    accuracy                           0.82      1979\n",
      "   macro avg       0.72      0.73      0.73      1979\n",
      "weighted avg       0.82      0.82      0.82      1979\n",
      "\n",
      "**************************************************\n",
      "confusion matrix:\n",
      "[[1394  182]\n",
      " [ 173  230]]\n"
     ]
    }
   ],
   "source": [
    "y_pred=rf_model.predict(X_test)\n",
    "print(\"Accuracy is: {}\".format(accuracy_score(y_test,y_pred)))\n",
    "print('*'*50)\n",
    "print(\"weighted F1_score is :{}\".format(f1_score(y_test,y_pred,average='weighted')))\n",
    "print('*'*50)\n",
    "print(\"Beta F1_score is :{}\".format(fbeta_score(y_test,y_pred,average='weighted',beta=2)))\n",
    "print('*'*50)\n",
    "print(\"Recall score is :{}\".format(recall_score(y_test,y_pred,average='weighted')))\n",
    "print('*'*50)\n",
    "print(\"ROC_AUC score is :{}\".format(roc_auc_score(y_test,y_pred)))\n",
    "print('*'*50)\n",
    "print(\"Classification report:\")\n",
    "print(classification_report(y_test,y_pred))\n",
    "print('*'*50)\n",
    "print(\"confusion matrix:\")\n",
    "print(confusion_matrix(y_test,y_pred))"
   ]
  },
  {
   "cell_type": "code",
   "execution_count": null,
   "metadata": {},
   "outputs": [],
   "source": []
  },
  {
   "cell_type": "code",
   "execution_count": 288,
   "metadata": {},
   "outputs": [
    {
     "name": "stdout",
     "output_type": "stream",
     "text": [
      "Accuracy is: 0.8287013643254169\n",
      "**************************************************\n",
      "F1_score is :0.8287013643254169\n",
      "**************************************************\n",
      "F1_score is :0.8287013643254169\n",
      "**************************************************\n",
      "Recall score is :0.8287013643254169\n",
      "**************************************************\n",
      "ROC_AUC score is :0.7290010832462118\n",
      "**************************************************\n",
      "Classification report:\n",
      "              precision    recall  f1-score   support\n",
      "\n",
      "           0       0.89      0.90      0.89      1576\n",
      "           1       0.58      0.56      0.57       403\n",
      "\n",
      "    accuracy                           0.83      1979\n",
      "   macro avg       0.74      0.73      0.73      1979\n",
      "weighted avg       0.83      0.83      0.83      1979\n",
      "\n",
      "**************************************************\n",
      "confusion matrix:\n",
      "[[1414  162]\n",
      " [ 177  226]]\n"
     ]
    }
   ],
   "source": [
    "y_pred=rf_model.predict(X_test)\n",
    "print(\"Accuracy is: {}\".format(accuracy_score(y_test,y_pred)))\n",
    "print('*'*50)\n",
    "print(\"F1_score is :{}\".format(f1_score(y_test,y_pred,average='micro')))\n",
    "print('*'*50)\n",
    "print(\"F1_score is :{}\".format(fbeta_score(y_test,y_pred,average='micro',beta=2)))\n",
    "print('*'*50)\n",
    "print(\"Recall score is :{}\".format(recall_score(y_test,y_pred,average='micro')))\n",
    "print('*'*50)\n",
    "print(\"ROC_AUC score is :{}\".format(roc_auc_score(y_test,y_pred)))\n",
    "print('*'*50)\n",
    "print(\"Classification report:\")\n",
    "print(classification_report(y_test,y_pred))\n",
    "print('*'*50)\n",
    "print(\"confusion matrix:\")\n",
    "print(confusion_matrix(y_test,y_pred))"
   ]
  },
  {
   "cell_type": "markdown",
   "metadata": {},
   "source": [
    "### XGBOOST"
   ]
  },
  {
   "cell_type": "code",
   "execution_count": 387,
   "metadata": {},
   "outputs": [],
   "source": [
    "import xgboost as xgb\n",
    "dtrain = xgb.DMatrix(X_train, label=y_train)\n",
    "dtest = xgb.DMatrix(X_test, label=y_test)"
   ]
  },
  {
   "cell_type": "code",
   "execution_count": 323,
   "metadata": {},
   "outputs": [],
   "source": [
    "xgb=xgb.XGBClassifier()"
   ]
  },
  {
   "cell_type": "code",
   "execution_count": 324,
   "metadata": {},
   "outputs": [],
   "source": [
    "params = {\n",
    "    # Parameters that we are going to tune.\n",
    "    'max_depth':range(9,12),\n",
    "    'min_child_weight': range(5,8),\n",
    "    'eta':[.3, .2, .1, .05, .01, .005],\n",
    "    'subsample': [i/10. for i in range(7,11)],\n",
    "    'colsample_bytree': [i/10. for i in range(7,11)]\n",
    "    # Other parameters\n",
    "}"
   ]
  },
  {
   "cell_type": "code",
   "execution_count": 326,
   "metadata": {},
   "outputs": [
    {
     "name": "stderr",
     "output_type": "stream",
     "text": [
      "C:\\Users\\RN7\\Anaconda3\\envs\\tensorflow\\lib\\site-packages\\sklearn\\model_selection\\_split.py:296: FutureWarning: Setting a random_state has no effect since shuffle is False. This will raise an error in 0.24. You should leave random_state to its default (None), or set shuffle=True.\n",
      "  FutureWarning\n"
     ]
    }
   ],
   "source": [
    "xgb_model=model_pipeline(params,xgb,X_train,y_train)"
   ]
  },
  {
   "cell_type": "code",
   "execution_count": 327,
   "metadata": {},
   "outputs": [
    {
     "data": {
      "text/plain": [
       "({'model__subsample': 0.7,\n",
       "  'model__min_child_weight': 5,\n",
       "  'model__max_depth': 10,\n",
       "  'model__eta': 0.005,\n",
       "  'model__colsample_bytree': 0.8},\n",
       " 0.598250100955714)"
      ]
     },
     "execution_count": 327,
     "metadata": {},
     "output_type": "execute_result"
    }
   ],
   "source": [
    "xgb_model.best_params_,xgb_model.best_score_"
   ]
  },
  {
   "cell_type": "code",
   "execution_count": 335,
   "metadata": {},
   "outputs": [
    {
     "name": "stdout",
     "output_type": "stream",
     "text": [
      "Accuracy is: 0.8468923698837797\n",
      "**************************************************\n",
      "weighted F1_score is :0.8436083674949237\n",
      "**************************************************\n",
      "Beta F1_score is :0.845461055104494\n",
      "**************************************************\n",
      "Recall score is :0.8468923698837797\n",
      "**************************************************\n",
      "ROC_AUC score is :0.7441161466664985\n",
      "**************************************************\n",
      "Classification report:\n",
      "              precision    recall  f1-score   support\n",
      "\n",
      "           0       0.89      0.92      0.91      1576\n",
      "           1       0.64      0.57      0.60       403\n",
      "\n",
      "    accuracy                           0.85      1979\n",
      "   macro avg       0.77      0.74      0.75      1979\n",
      "weighted avg       0.84      0.85      0.84      1979\n",
      "\n",
      "**************************************************\n",
      "confusion matrix:\n",
      "[[1446  130]\n",
      " [ 173  230]]\n"
     ]
    }
   ],
   "source": [
    "y_pred=xgb_model.predict(X_test)\n",
    "print(\"Accuracy is: {}\".format(accuracy_score(y_test,y_pred)))\n",
    "print('*'*50)\n",
    "print(\"weighted F1_score is :{}\".format(f1_score(y_test,y_pred,average='weighted')))\n",
    "print('*'*50)\n",
    "print(\"Beta F1_score is :{}\".format(fbeta_score(y_test,y_pred,average='weighted',beta=2)))\n",
    "print('*'*50)\n",
    "print(\"Recall score is :{}\".format(recall_score(y_test,y_pred,average='weighted')))\n",
    "print('*'*50)\n",
    "print(\"ROC_AUC score is :{}\".format(roc_auc_score(y_test,y_pred)))\n",
    "print('*'*50)\n",
    "print(\"Classification report:\")\n",
    "print(classification_report(y_test,y_pred))\n",
    "print('*'*50)\n",
    "print(\"confusion matrix:\")\n",
    "print(confusion_matrix(y_test,y_pred))"
   ]
  },
  {
   "cell_type": "markdown",
   "metadata": {},
   "source": [
    "### SVM"
   ]
  },
  {
   "cell_type": "code",
   "execution_count": 383,
   "metadata": {},
   "outputs": [
    {
     "name": "stderr",
     "output_type": "stream",
     "text": [
      "C:\\Users\\RN7\\Anaconda3\\envs\\tensorflow\\lib\\site-packages\\sklearn\\model_selection\\_split.py:296: FutureWarning: Setting a random_state has no effect since shuffle is False. This will raise an error in 0.24. You should leave random_state to its default (None), or set shuffle=True.\n",
      "  FutureWarning\n"
     ]
    }
   ],
   "source": [
    "svm_model=model_pipeline(svm_param,svc,X_train_scaled,y_train)"
   ]
  },
  {
   "cell_type": "code",
   "execution_count": 384,
   "metadata": {},
   "outputs": [
    {
     "data": {
      "text/plain": [
       "({'model__kernel': 'rbf', 'model__gamma': 0.05, 'model__C': 0.1},\n",
       " 0.7309232159683096)"
      ]
     },
     "execution_count": 384,
     "metadata": {},
     "output_type": "execute_result"
    }
   ],
   "source": [
    "svm_model.best_params_,svm_model.best_score_"
   ]
  },
  {
   "cell_type": "code",
   "execution_count": 385,
   "metadata": {},
   "outputs": [
    {
     "name": "stdout",
     "output_type": "stream",
     "text": [
      "Accuracy is: 0.7882769075290551\n",
      "**************************************************\n",
      "weighted F1_score is :0.8020118186790479\n",
      "**************************************************\n",
      "Beta F1_score is :0.7915651316614596\n",
      "**************************************************\n",
      "Recall score is :0.7882769075290551\n",
      "**************************************************\n",
      "ROC_AUC score is :0.7645671423713015\n",
      "**************************************************\n",
      "Classification report:\n",
      "              precision    recall  f1-score   support\n",
      "\n",
      "           0       0.92      0.80      0.86      1576\n",
      "           1       0.49      0.72      0.58       403\n",
      "\n",
      "    accuracy                           0.79      1979\n",
      "   macro avg       0.70      0.76      0.72      1979\n",
      "weighted avg       0.83      0.79      0.80      1979\n",
      "\n",
      "**************************************************\n",
      "confusion matrix:\n",
      "[[1268  308]\n",
      " [ 111  292]]\n"
     ]
    }
   ],
   "source": [
    "y_pred=svm_model.predict(X_test_scaled)\n",
    "print(\"Accuracy is: {}\".format(accuracy_score(y_test,y_pred)))\n",
    "print('*'*50)\n",
    "print(\"weighted F1_score is :{}\".format(f1_score(y_test,y_pred,average='weighted')))\n",
    "print('*'*50)\n",
    "print(\"Beta F1_score is :{}\".format(fbeta_score(y_test,y_pred,average='weighted',beta=2)))\n",
    "print('*'*50)\n",
    "print(\"Recall score is :{}\".format(recall_score(y_test,y_pred,average='weighted')))\n",
    "print('*'*50)\n",
    "print(\"ROC_AUC score is :{}\".format(roc_auc_score(y_test,y_pred)))\n",
    "print('*'*50)\n",
    "print(\"Classification report:\")\n",
    "print(classification_report(y_test,y_pred))\n",
    "print('*'*50)\n",
    "print(\"confusion matrix:\")\n",
    "print(confusion_matrix(y_test,y_pred))"
   ]
  },
  {
   "cell_type": "markdown",
   "metadata": {},
   "source": [
    "## Model Summary"
   ]
  },
  {
   "cell_type": "code",
   "execution_count": 388,
   "metadata": {},
   "outputs": [],
   "source": [
    "#instantiate different model for tuning\n",
    "randomforest=RandomForestClassifier(random_state=42)\n",
    "logistic=LogisticRegression(C=0.01,random_state=42)\n",
    "svm=SVC(random_state=42,kernel='rbf', gamma= 0.05,C=0.1)\n",
    "xgbclassifier=xgb.XGBClassifier(subsample=0.7,min_child_weight=5,max_depth=10,eta=0.005,colsample_bytree=0.8)"
   ]
  },
  {
   "cell_type": "code",
   "execution_count": 390,
   "metadata": {},
   "outputs": [],
   "source": [
    "X_train,X_test,y_train,y_test=train_test_split(X,y,test_size=0.2,random_state=0,stratify=y)\n",
    "\n",
    "\n",
    "\n",
    "#create instance of StandardScaler\n",
    "scaler=StandardScaler()\n",
    "X_tr_scaled=scaler.fit_transform(X_train)\n",
    "X_te_scaled=scaler.transform(X_test)\n",
    "\n",
    "\n",
    "\n",
    "#import packages for SMOTE\n",
    "from imblearn.over_sampling import SMOTE\n",
    "over_sampling=SMOTE(random_state=42)\n",
    "X_linear_smote,y_linear_smote=over_sampling.fit_sample(X_tr_scaled,y_train)\n",
    "\n",
    "\n",
    "from imblearn.over_sampling import SMOTE\n",
    "over_sampling=SMOTE(random_state=42)\n",
    "X_tree_smote,y_tree_smote=over_sampling.fit_sample(X_train,y_train)"
   ]
  },
  {
   "cell_type": "code",
   "execution_count": 391,
   "metadata": {},
   "outputs": [
    {
     "name": "stdout",
     "output_type": "stream",
     "text": [
      "Fitting 5 folds for each of 100 candidates, totalling 500 fits\n"
     ]
    },
    {
     "name": "stderr",
     "output_type": "stream",
     "text": [
      "[Parallel(n_jobs=-1)]: Using backend LokyBackend with 8 concurrent workers.\n",
      "[Parallel(n_jobs=-1)]: Done  25 tasks      | elapsed:  3.4min\n",
      "[Parallel(n_jobs=-1)]: Done 146 tasks      | elapsed: 27.0min\n",
      "[Parallel(n_jobs=-1)]: Done 349 tasks      | elapsed: 60.4min\n",
      "[Parallel(n_jobs=-1)]: Done 500 out of 500 | elapsed: 84.1min finished\n"
     ]
    },
    {
     "data": {
      "text/plain": [
       "LogisticRegression(C=0.01, class_weight=None, dual=False, fit_intercept=True,\n",
       "                   intercept_scaling=1, l1_ratio=None, max_iter=100,\n",
       "                   multi_class='auto', n_jobs=None, penalty='l2',\n",
       "                   random_state=42, solver='lbfgs', tol=0.0001, verbose=0,\n",
       "                   warm_start=False)"
      ]
     },
     "execution_count": 391,
     "metadata": {},
     "output_type": "execute_result"
    }
   ],
   "source": [
    "random_forest.fit(X_tree_smote,y_tree_smote)\n",
    "xgbclassifier.fit(X_tree_smote,y_tree_smote)\n",
    "svm.fit(X_linear_smote,y_linear_smote)\n",
    "logistic.fit(X_linear_smote,y_linear_smote)"
   ]
  },
  {
   "cell_type": "code",
   "execution_count": 410,
   "metadata": {},
   "outputs": [],
   "source": [
    "model_name=[\"random_forest\",\"XGBoost\",\"Logistic Regression\",\"SVM\"]\n",
    "f2_score=[fbeta_score(y_test,random_forest.predict(X_test),average='weighted',beta=2),\n",
    "                     fbeta_score(y_test,xgbclassifier.predict(X_test),average='weighted',beta=2),\n",
    "                     fbeta_score(y_test,svm.predict(X_te_scaled),average='weighted',beta=2),\n",
    "                     fbeta_score(y_test,logistic.predict(X_te_scaled),average='weighted',beta=2)]\n",
    "roc_auc=[roc_auc_score(y_test,random_forest.predict(X_test),average='weighted'),\n",
    "                     roc_auc_score(y_test,xgbclassifier.predict(X_test),average='weighted'),\n",
    "                     roc_auc_score(y_test,svm.predict(X_te_scaled),average='weighted'),\n",
    "                     roc_auc_score(y_test,logistic.predict(X_te_scaled),average='weighted')]\n",
    "recall=[recall_score(y_test,random_forest.predict(X_test)),\n",
    "                     recall_score(y_test,xgbclassifier.predict(X_test)),\n",
    "                     recall_score(y_test,svm.predict(X_te_scaled)),\n",
    "                     recall_score(y_test,logistic.predict(X_te_scaled))]\n",
    "result=pd.DataFrame({\"Model\":model_name,\"F2 Score\":f2_score,\"Recall\":recall,\"ROC AUC score\":roc_auc})"
   ]
  },
  {
   "cell_type": "code",
   "execution_count": 411,
   "metadata": {},
   "outputs": [
    {
     "data": {
      "text/html": [
       "<div>\n",
       "<style scoped>\n",
       "    .dataframe tbody tr th:only-of-type {\n",
       "        vertical-align: middle;\n",
       "    }\n",
       "\n",
       "    .dataframe tbody tr th {\n",
       "        vertical-align: top;\n",
       "    }\n",
       "\n",
       "    .dataframe thead th {\n",
       "        text-align: right;\n",
       "    }\n",
       "</style>\n",
       "<table border=\"1\" class=\"dataframe\">\n",
       "  <thead>\n",
       "    <tr style=\"text-align: right;\">\n",
       "      <th></th>\n",
       "      <th>Model</th>\n",
       "      <th>F2 Score</th>\n",
       "      <th>Recall</th>\n",
       "      <th>ROC AUC score</th>\n",
       "    </tr>\n",
       "  </thead>\n",
       "  <tbody>\n",
       "    <tr>\n",
       "      <th>0</th>\n",
       "      <td>random_forest</td>\n",
       "      <td>0.839816</td>\n",
       "      <td>0.516129</td>\n",
       "      <td>0.721262</td>\n",
       "    </tr>\n",
       "    <tr>\n",
       "      <th>1</th>\n",
       "      <td>XGBoost</td>\n",
       "      <td>0.845461</td>\n",
       "      <td>0.570720</td>\n",
       "      <td>0.744116</td>\n",
       "    </tr>\n",
       "    <tr>\n",
       "      <th>2</th>\n",
       "      <td>Logistic Regression</td>\n",
       "      <td>0.791565</td>\n",
       "      <td>0.724566</td>\n",
       "      <td>0.764567</td>\n",
       "    </tr>\n",
       "    <tr>\n",
       "      <th>3</th>\n",
       "      <td>SVM</td>\n",
       "      <td>0.733281</td>\n",
       "      <td>0.697270</td>\n",
       "      <td>0.716973</td>\n",
       "    </tr>\n",
       "  </tbody>\n",
       "</table>\n",
       "</div>"
      ],
      "text/plain": [
       "                 Model  F2 Score    Recall  ROC AUC score\n",
       "0        random_forest  0.839816  0.516129       0.721262\n",
       "1              XGBoost  0.845461  0.570720       0.744116\n",
       "2  Logistic Regression  0.791565  0.724566       0.764567\n",
       "3                  SVM  0.733281  0.697270       0.716973"
      ]
     },
     "execution_count": 411,
     "metadata": {},
     "output_type": "execute_result"
    }
   ],
   "source": [
    "result"
   ]
  },
  {
   "cell_type": "code",
   "execution_count": 88,
   "metadata": {},
   "outputs": [
    {
     "data": {
      "image/png": "[encoded data removed]",
      "text/plain": [
       "<Figure size 432x288 with 1 Axes>"
      ]
     },
     "metadata": {
      "needs_background": "light"
     },
     "output_type": "display_data"
    }
   ],
   "source": [
    "#ROC_AUC_CURVE IS GIVEN BELOW\n",
    "y_pred = model.predict(X_test).ravel()\n",
    "fpr, tpr, thresholds = roc_curve(y_test, y_pred)\n",
    "auc = auc(fpr, tpr)\n",
    "plt.figure(1)\n",
    "plt.plot([0, 1], [0, 1], 'k--')\n",
    "plt.plot(fpr, tpr, label='Keras (area = {:.3f})'.format(auc))\n",
    "plt.xlabel('False positive rate')\n",
    "plt.ylabel('True positive rate')\n",
    "plt.title('ROC curve')\n",
    "plt.legend(loc='best')\n",
    "plt.show()"
   ]
  },
  {
   "cell_type": "markdown",
   "metadata": {},
   "source": [
    "CONCLUSION"
   ]
  },
  {
   "cell_type": "raw",
   "metadata": {},
   "source": [
    "In conclusion, we have been able to get insights from our churn dataset and predicted  with the Deep Learning  model at 87% accuracy.\n",
    "This could be imprved by collecting more relevant data with important feature from different individual over time "
   ]
  }
 ],
 "metadata": {
  "kernelspec": {
   "display_name": "Python 3",
   "language": "python",
   "name": "python3"
  },
  "language_info": {
   "codemirror_mode": {
    "name": "ipython",
    "version": 3
   },
   "file_extension": ".py",
   "mimetype": "text/x-python",
   "name": "python",
   "nbconvert_exporter": "python",
   "pygments_lexer": "ipython3",
   "version": "3.7.1"
  }
 },
 "nbformat": 4,
 "nbformat_minor": 4
}
