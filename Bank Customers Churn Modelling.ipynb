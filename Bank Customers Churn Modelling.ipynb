{
 "cells": [
  {
   "cell_type": "markdown",
   "metadata": {},
   "source": [
    "# Bank Customer Churn Prediction"
   ]
  },
  {
   "cell_type": "raw",
   "metadata": {},
   "source": [
    "Customer churn is a term used to refer to customers who leave the financial institution they've been working with. It has emerged as one of the major problems for financial institutions including banks"
   ]
  },
  {
   "cell_type": "markdown",
   "metadata": {},
   "source": [
    "OVERVIEW ON THE DATASET"
   ]
  },
  {
   "cell_type": "raw",
   "metadata": {},
   "source": [
    "The dataset is a labelled dataset (has features determining the target) thus we'll use Supervised Learning models\n",
    "The target column is classifying the customer into Churned customer or not, thus we'll implement Classification models"
   ]
  },
  {
   "cell_type": "markdown",
   "metadata": {},
   "source": [
    "IMPORT NECESSARY LIBRARIES"
   ]
  },
  {
   "cell_type": "code",
   "execution_count": 543,
   "metadata": {},
   "outputs": [],
   "source": [
    "#import libraries for data wrangling\n",
    "import pandas as pd\n",
    "import matplotlib.pyplot as plt\n",
    "import numpy as np\n",
    "import seaborn as sns\n",
    "from collections import Counter"
   ]
  },
  {
   "cell_type": "code",
   "execution_count": 544,
   "metadata": {},
   "outputs": [],
   "source": [
    "#import libraries for modelling\n",
    "from sklearn.model_selection import train_test_split,cross_val_score,learning_curve\n",
    "from sklearn.preprocessing import StandardScaler\n",
    "from sklearn.metrics import accuracy_score,confusion_matrix,auc,roc_curve,roc_auc_score,classification_report\n",
    "from keras.models import Sequential\n",
    "from keras.callbacks import Callback,EarlyStopping,History,ModelCheckpoint,LearningRateScheduler,ReduceLROnPlateau\n",
    "from keras.layers import Dense,BatchNormalization"
   ]
  },
  {
   "cell_type": "markdown",
   "metadata": {},
   "source": [
    "IMPORT DATA"
   ]
  },
  {
   "cell_type": "code",
   "execution_count": 545,
   "metadata": {},
   "outputs": [],
   "source": [
    " data=pd.read_csv('../RN7/data/BankCustomers.csv',encoding= 'unicode_escape')"
   ]
  },
  {
   "cell_type": "code",
   "execution_count": 546,
   "metadata": {},
   "outputs": [
    {
     "data": {
      "text/html": [
       "<div>\n",
       "<style scoped>\n",
       "    .dataframe tbody tr th:only-of-type {\n",
       "        vertical-align: middle;\n",
       "    }\n",
       "\n",
       "    .dataframe tbody tr th {\n",
       "        vertical-align: top;\n",
       "    }\n",
       "\n",
       "    .dataframe thead th {\n",
       "        text-align: right;\n",
       "    }\n",
       "</style>\n",
       "<table border=\"1\" class=\"dataframe\">\n",
       "  <thead>\n",
       "    <tr style=\"text-align: right;\">\n",
       "      <th></th>\n",
       "      <th>RowNumber</th>\n",
       "      <th>CustomerId</th>\n",
       "      <th>Surname</th>\n",
       "      <th>CreditScore</th>\n",
       "      <th>Geography</th>\n",
       "      <th>Gender</th>\n",
       "      <th>Age</th>\n",
       "      <th>Tenure</th>\n",
       "      <th>Balance</th>\n",
       "      <th>NumOfProducts</th>\n",
       "      <th>HasCrCard</th>\n",
       "      <th>IsActiveMember</th>\n",
       "      <th>EstimatedSalary</th>\n",
       "      <th>Exited</th>\n",
       "    </tr>\n",
       "  </thead>\n",
       "  <tbody>\n",
       "    <tr>\n",
       "      <th>0</th>\n",
       "      <td>1</td>\n",
       "      <td>15634602</td>\n",
       "      <td>Hargrave</td>\n",
       "      <td>619</td>\n",
       "      <td>France</td>\n",
       "      <td>Female</td>\n",
       "      <td>42</td>\n",
       "      <td>2</td>\n",
       "      <td>0.00</td>\n",
       "      <td>1</td>\n",
       "      <td>1</td>\n",
       "      <td>1</td>\n",
       "      <td>101348.88</td>\n",
       "      <td>1</td>\n",
       "    </tr>\n",
       "    <tr>\n",
       "      <th>1</th>\n",
       "      <td>2</td>\n",
       "      <td>15647311</td>\n",
       "      <td>Hill</td>\n",
       "      <td>608</td>\n",
       "      <td>Spain</td>\n",
       "      <td>Female</td>\n",
       "      <td>41</td>\n",
       "      <td>1</td>\n",
       "      <td>83807.86</td>\n",
       "      <td>1</td>\n",
       "      <td>0</td>\n",
       "      <td>1</td>\n",
       "      <td>112542.58</td>\n",
       "      <td>0</td>\n",
       "    </tr>\n",
       "    <tr>\n",
       "      <th>2</th>\n",
       "      <td>3</td>\n",
       "      <td>15619304</td>\n",
       "      <td>Onio</td>\n",
       "      <td>502</td>\n",
       "      <td>France</td>\n",
       "      <td>Female</td>\n",
       "      <td>42</td>\n",
       "      <td>8</td>\n",
       "      <td>159660.80</td>\n",
       "      <td>3</td>\n",
       "      <td>1</td>\n",
       "      <td>0</td>\n",
       "      <td>113931.57</td>\n",
       "      <td>1</td>\n",
       "    </tr>\n",
       "    <tr>\n",
       "      <th>3</th>\n",
       "      <td>4</td>\n",
       "      <td>15701354</td>\n",
       "      <td>Boni</td>\n",
       "      <td>699</td>\n",
       "      <td>France</td>\n",
       "      <td>Female</td>\n",
       "      <td>39</td>\n",
       "      <td>1</td>\n",
       "      <td>0.00</td>\n",
       "      <td>2</td>\n",
       "      <td>0</td>\n",
       "      <td>0</td>\n",
       "      <td>93826.63</td>\n",
       "      <td>0</td>\n",
       "    </tr>\n",
       "    <tr>\n",
       "      <th>4</th>\n",
       "      <td>5</td>\n",
       "      <td>15737888</td>\n",
       "      <td>Mitchell</td>\n",
       "      <td>850</td>\n",
       "      <td>Spain</td>\n",
       "      <td>Female</td>\n",
       "      <td>43</td>\n",
       "      <td>2</td>\n",
       "      <td>125510.82</td>\n",
       "      <td>1</td>\n",
       "      <td>1</td>\n",
       "      <td>1</td>\n",
       "      <td>79084.10</td>\n",
       "      <td>0</td>\n",
       "    </tr>\n",
       "  </tbody>\n",
       "</table>\n",
       "</div>"
      ],
      "text/plain": [
       "   RowNumber  CustomerId   Surname  CreditScore Geography  Gender  Age  \\\n",
       "0          1    15634602  Hargrave          619    France  Female   42   \n",
       "1          2    15647311      Hill          608     Spain  Female   41   \n",
       "2          3    15619304      Onio          502    France  Female   42   \n",
       "3          4    15701354      Boni          699    France  Female   39   \n",
       "4          5    15737888  Mitchell          850     Spain  Female   43   \n",
       "\n",
       "   Tenure    Balance  NumOfProducts  HasCrCard  IsActiveMember  \\\n",
       "0       2       0.00              1          1               1   \n",
       "1       1   83807.86              1          0               1   \n",
       "2       8  159660.80              3          1               0   \n",
       "3       1       0.00              2          0               0   \n",
       "4       2  125510.82              1          1               1   \n",
       "\n",
       "   EstimatedSalary  Exited  \n",
       "0        101348.88       1  \n",
       "1        112542.58       0  \n",
       "2        113931.57       1  \n",
       "3         93826.63       0  \n",
       "4         79084.10       0  "
      ]
     },
     "execution_count": 546,
     "metadata": {},
     "output_type": "execute_result"
    }
   ],
   "source": [
    "data.head()"
   ]
  },
  {
   "cell_type": "code",
   "execution_count": 547,
   "metadata": {},
   "outputs": [
    {
     "name": "stdout",
     "output_type": "stream",
     "text": [
      "<class 'pandas.core.frame.DataFrame'>\n",
      "RangeIndex: 10000 entries, 0 to 9999\n",
      "Data columns (total 14 columns):\n",
      " #   Column           Non-Null Count  Dtype  \n",
      "---  ------           --------------  -----  \n",
      " 0   RowNumber        10000 non-null  int64  \n",
      " 1   CustomerId       10000 non-null  int64  \n",
      " 2   Surname          10000 non-null  object \n",
      " 3   CreditScore      10000 non-null  int64  \n",
      " 4   Geography        10000 non-null  object \n",
      " 5   Gender           10000 non-null  object \n",
      " 6   Age              10000 non-null  int64  \n",
      " 7   Tenure           10000 non-null  int64  \n",
      " 8   Balance          10000 non-null  float64\n",
      " 9   NumOfProducts    10000 non-null  int64  \n",
      " 10  HasCrCard        10000 non-null  int64  \n",
      " 11  IsActiveMember   10000 non-null  int64  \n",
      " 12  EstimatedSalary  10000 non-null  float64\n",
      " 13  Exited           10000 non-null  int64  \n",
      "dtypes: float64(2), int64(9), object(3)\n",
      "memory usage: 1.1+ MB\n"
     ]
    }
   ],
   "source": [
    "data.info()"
   ]
  },
  {
   "cell_type": "raw",
   "metadata": {},
   "source": [
    "From the above cell, we conclude that there are no missing values in our dataset (since all features have 10000 non-null values)"
   ]
  },
  {
   "cell_type": "code",
   "execution_count": 548,
   "metadata": {},
   "outputs": [
    {
     "data": {
      "text/html": [
       "<div>\n",
       "<style scoped>\n",
       "    .dataframe tbody tr th:only-of-type {\n",
       "        vertical-align: middle;\n",
       "    }\n",
       "\n",
       "    .dataframe tbody tr th {\n",
       "        vertical-align: top;\n",
       "    }\n",
       "\n",
       "    .dataframe thead th {\n",
       "        text-align: right;\n",
       "    }\n",
       "</style>\n",
       "<table border=\"1\" class=\"dataframe\">\n",
       "  <thead>\n",
       "    <tr style=\"text-align: right;\">\n",
       "      <th></th>\n",
       "      <th>RowNumber</th>\n",
       "      <th>CustomerId</th>\n",
       "      <th>CreditScore</th>\n",
       "      <th>Age</th>\n",
       "      <th>Tenure</th>\n",
       "      <th>Balance</th>\n",
       "      <th>NumOfProducts</th>\n",
       "      <th>HasCrCard</th>\n",
       "      <th>IsActiveMember</th>\n",
       "      <th>EstimatedSalary</th>\n",
       "      <th>Exited</th>\n",
       "    </tr>\n",
       "  </thead>\n",
       "  <tbody>\n",
       "    <tr>\n",
       "      <th>count</th>\n",
       "      <td>10000.00000</td>\n",
       "      <td>1.000000e+04</td>\n",
       "      <td>10000.000000</td>\n",
       "      <td>10000.000000</td>\n",
       "      <td>10000.000000</td>\n",
       "      <td>10000.000000</td>\n",
       "      <td>10000.000000</td>\n",
       "      <td>10000.00000</td>\n",
       "      <td>10000.000000</td>\n",
       "      <td>10000.000000</td>\n",
       "      <td>10000.000000</td>\n",
       "    </tr>\n",
       "    <tr>\n",
       "      <th>mean</th>\n",
       "      <td>5000.50000</td>\n",
       "      <td>1.569094e+07</td>\n",
       "      <td>650.528800</td>\n",
       "      <td>38.921800</td>\n",
       "      <td>5.012800</td>\n",
       "      <td>76485.889288</td>\n",
       "      <td>1.530200</td>\n",
       "      <td>0.70550</td>\n",
       "      <td>0.515100</td>\n",
       "      <td>100090.239881</td>\n",
       "      <td>0.203700</td>\n",
       "    </tr>\n",
       "    <tr>\n",
       "      <th>std</th>\n",
       "      <td>2886.89568</td>\n",
       "      <td>7.193619e+04</td>\n",
       "      <td>96.653299</td>\n",
       "      <td>10.487806</td>\n",
       "      <td>2.892174</td>\n",
       "      <td>62397.405202</td>\n",
       "      <td>0.581654</td>\n",
       "      <td>0.45584</td>\n",
       "      <td>0.499797</td>\n",
       "      <td>57510.492818</td>\n",
       "      <td>0.402769</td>\n",
       "    </tr>\n",
       "    <tr>\n",
       "      <th>min</th>\n",
       "      <td>1.00000</td>\n",
       "      <td>1.556570e+07</td>\n",
       "      <td>350.000000</td>\n",
       "      <td>18.000000</td>\n",
       "      <td>0.000000</td>\n",
       "      <td>0.000000</td>\n",
       "      <td>1.000000</td>\n",
       "      <td>0.00000</td>\n",
       "      <td>0.000000</td>\n",
       "      <td>11.580000</td>\n",
       "      <td>0.000000</td>\n",
       "    </tr>\n",
       "    <tr>\n",
       "      <th>25%</th>\n",
       "      <td>2500.75000</td>\n",
       "      <td>1.562853e+07</td>\n",
       "      <td>584.000000</td>\n",
       "      <td>32.000000</td>\n",
       "      <td>3.000000</td>\n",
       "      <td>0.000000</td>\n",
       "      <td>1.000000</td>\n",
       "      <td>0.00000</td>\n",
       "      <td>0.000000</td>\n",
       "      <td>51002.110000</td>\n",
       "      <td>0.000000</td>\n",
       "    </tr>\n",
       "    <tr>\n",
       "      <th>50%</th>\n",
       "      <td>5000.50000</td>\n",
       "      <td>1.569074e+07</td>\n",
       "      <td>652.000000</td>\n",
       "      <td>37.000000</td>\n",
       "      <td>5.000000</td>\n",
       "      <td>97198.540000</td>\n",
       "      <td>1.000000</td>\n",
       "      <td>1.00000</td>\n",
       "      <td>1.000000</td>\n",
       "      <td>100193.915000</td>\n",
       "      <td>0.000000</td>\n",
       "    </tr>\n",
       "    <tr>\n",
       "      <th>75%</th>\n",
       "      <td>7500.25000</td>\n",
       "      <td>1.575323e+07</td>\n",
       "      <td>718.000000</td>\n",
       "      <td>44.000000</td>\n",
       "      <td>7.000000</td>\n",
       "      <td>127644.240000</td>\n",
       "      <td>2.000000</td>\n",
       "      <td>1.00000</td>\n",
       "      <td>1.000000</td>\n",
       "      <td>149388.247500</td>\n",
       "      <td>0.000000</td>\n",
       "    </tr>\n",
       "    <tr>\n",
       "      <th>max</th>\n",
       "      <td>10000.00000</td>\n",
       "      <td>1.581569e+07</td>\n",
       "      <td>850.000000</td>\n",
       "      <td>92.000000</td>\n",
       "      <td>10.000000</td>\n",
       "      <td>250898.090000</td>\n",
       "      <td>4.000000</td>\n",
       "      <td>1.00000</td>\n",
       "      <td>1.000000</td>\n",
       "      <td>199992.480000</td>\n",
       "      <td>1.000000</td>\n",
       "    </tr>\n",
       "  </tbody>\n",
       "</table>\n",
       "</div>"
      ],
      "text/plain": [
       "         RowNumber    CustomerId   CreditScore           Age        Tenure  \\\n",
       "count  10000.00000  1.000000e+04  10000.000000  10000.000000  10000.000000   \n",
       "mean    5000.50000  1.569094e+07    650.528800     38.921800      5.012800   \n",
       "std     2886.89568  7.193619e+04     96.653299     10.487806      2.892174   \n",
       "min        1.00000  1.556570e+07    350.000000     18.000000      0.000000   \n",
       "25%     2500.75000  1.562853e+07    584.000000     32.000000      3.000000   \n",
       "50%     5000.50000  1.569074e+07    652.000000     37.000000      5.000000   \n",
       "75%     7500.25000  1.575323e+07    718.000000     44.000000      7.000000   \n",
       "max    10000.00000  1.581569e+07    850.000000     92.000000     10.000000   \n",
       "\n",
       "             Balance  NumOfProducts    HasCrCard  IsActiveMember  \\\n",
       "count   10000.000000   10000.000000  10000.00000    10000.000000   \n",
       "mean    76485.889288       1.530200      0.70550        0.515100   \n",
       "std     62397.405202       0.581654      0.45584        0.499797   \n",
       "min         0.000000       1.000000      0.00000        0.000000   \n",
       "25%         0.000000       1.000000      0.00000        0.000000   \n",
       "50%     97198.540000       1.000000      1.00000        1.000000   \n",
       "75%    127644.240000       2.000000      1.00000        1.000000   \n",
       "max    250898.090000       4.000000      1.00000        1.000000   \n",
       "\n",
       "       EstimatedSalary        Exited  \n",
       "count     10000.000000  10000.000000  \n",
       "mean     100090.239881      0.203700  \n",
       "std       57510.492818      0.402769  \n",
       "min          11.580000      0.000000  \n",
       "25%       51002.110000      0.000000  \n",
       "50%      100193.915000      0.000000  \n",
       "75%      149388.247500      0.000000  \n",
       "max      199992.480000      1.000000  "
      ]
     },
     "execution_count": 548,
     "metadata": {},
     "output_type": "execute_result"
    }
   ],
   "source": [
    "data.describe()"
   ]
  },
  {
   "cell_type": "code",
   "execution_count": 549,
   "metadata": {},
   "outputs": [
    {
     "data": {
      "text/plain": [
       "0    7963\n",
       "1    2037\n",
       "Name: Exited, dtype: int64"
      ]
     },
     "execution_count": 549,
     "metadata": {},
     "output_type": "execute_result"
    }
   ],
   "source": [
    "data.Exited.value_counts()"
   ]
  },
  {
   "cell_type": "code",
   "execution_count": 550,
   "metadata": {},
   "outputs": [
    {
     "data": {
      "image/png": "[encoded data removed]",
      "text/plain": [
       "<Figure size 576x360 with 1 Axes>"
      ]
     },
     "metadata": {},
     "output_type": "display_data"
    }
   ],
   "source": [
    "\n",
    "size=[data[data.Exited==1].count().Exited,data[data.Exited==0].count().Exited]\n",
    "label=['Churned','retained']\n",
    "fig,ax=plt.subplots(figsize=(8,5))\n",
    "ax.pie(size,labels=label,autopct='%1.1f%%',shadow=True,)\n",
    "ax.axis('equal')\n",
    "plt.show()"
   ]
  },
  {
   "cell_type": "raw",
   "metadata": {},
   "source": [
    "Almost 21% of customers churned"
   ]
  },
  {
   "cell_type": "code",
   "execution_count": 551,
   "metadata": {},
   "outputs": [
    {
     "data": {
      "text/plain": [
       "<matplotlib.axes._subplots.AxesSubplot at 0x2d0609f9c08>"
      ]
     },
     "execution_count": 551,
     "metadata": {},
     "output_type": "execute_result"
    },
    {
     "data": {
      "image/png": "[encoded data removed]",
      "text/plain": [
       "<Figure size 1296x432 with 3 Axes>"
      ]
     },
     "metadata": {
      "needs_background": "light"
     },
     "output_type": "display_data"
    }
   ],
   "source": [
    "_, ax = plt.subplots(1, 3, figsize=(18, 6))\n",
    "sns.countplot(x='Geography',data=data,hue='Exited',ax=ax[0])\n",
    "sns.countplot(x='Gender',data=data,hue='Exited',ax=ax[1])\n",
    "sns.countplot(x='IsActiveMember',data=data,hue='Exited',ax=ax[2])"
   ]
  },
  {
   "cell_type": "raw",
   "metadata": {},
   "source": [
    "Majority of data from France\n",
    "Germany has highest number of churn\n",
    "Female are more likely to exited than male along all the region"
   ]
  },
  {
   "cell_type": "code",
   "execution_count": 552,
   "metadata": {},
   "outputs": [
    {
     "data": {
      "text/plain": [
       "<matplotlib.axes._subplots.AxesSubplot at 0x2d061d4e988>"
      ]
     },
     "execution_count": 552,
     "metadata": {},
     "output_type": "execute_result"
    },
    {
     "data": {
      "image/png": "[encoded data removed]",
      "text/plain": [
       "<Figure size 1296x432 with 2 Axes>"
      ]
     },
     "metadata": {
      "needs_background": "light"
     },
     "output_type": "display_data"
    }
   ],
   "source": [
    "_, ax = plt.subplots(1, 2, figsize=(18, 6))\n",
    "sns.countplot(x='NumOfProducts',data=data,hue='Exited',ax=ax[0])\n",
    "sns.countplot(x='HasCrCard',data=data,hue='Exited',ax=ax[1])"
   ]
  },
  {
   "cell_type": "raw",
   "metadata": {},
   "source": [
    "Customers having 1 or 2 products more likely to churned\n",
    "Customers who having Credit Card are more likely to churned"
   ]
  },
  {
   "cell_type": "code",
   "execution_count": 553,
   "metadata": {},
   "outputs": [
    {
     "data": {
      "text/plain": [
       "<matplotlib.axes._subplots.AxesSubplot at 0x2d061c22908>"
      ]
     },
     "execution_count": 553,
     "metadata": {},
     "output_type": "execute_result"
    },
    {
     "data": {
      "image/png": "[encoded data removed]",
      "text/plain": [
       "<Figure size 1080x576 with 4 Axes>"
      ]
     },
     "metadata": {
      "needs_background": "light"
     },
     "output_type": "display_data"
    }
   ],
   "source": [
    "fig,ax=plt.subplots(2,2,figsize=(15,8))\n",
    "sns.boxplot(x='Exited',y='CreditScore',data=data,ax=ax[0][0])\n",
    "sns.boxplot(x='Exited',y='Tenure',data=data,ax=ax[0][1])\n",
    "sns.boxplot(x='Exited',y='Balance',data=data,ax=ax[1][0])\n",
    "sns.boxplot(x='Exited',y='EstimatedSalary',data=data,ax=ax[1][1])"
   ]
  },
  {
   "cell_type": "raw",
   "metadata": {},
   "source": [
    " There is no such difference in CreditScore distribution between retained and churned model.But,There is some outlier which is the customer having very low credit score.So Customer having Credit Score less than 400 are more likly to churn \n",
    " Let's Analyze Tenure and Balance separately\n",
    " "
   ]
  },
  {
   "cell_type": "code",
   "execution_count": 554,
   "metadata": {},
   "outputs": [
    {
     "data": {
      "image/png": "[encoded data removed]",
      "text/plain": [
       "<Figure size 690.375x216 with 1 Axes>"
      ]
     },
     "metadata": {
      "needs_background": "light"
     },
     "output_type": "display_data"
    }
   ],
   "source": [
    "face = sns.FacetGrid(data, hue=\"Exited\",aspect=3)\n",
    "face.map(sns.kdeplot,\"Age\",shade= True)\n",
    "face.add_legend()\n",
    "plt.show()"
   ]
  },
  {
   "cell_type": "markdown",
   "metadata": {},
   "source": [
    "Customers of ag between 35 to 55 are more likely to churn"
   ]
  },
  {
   "cell_type": "code",
   "execution_count": 555,
   "metadata": {},
   "outputs": [
    {
     "data": {
      "image/png": "[encoded data removed]",
      "text/plain": [
       "<Figure size 690.375x216 with 1 Axes>"
      ]
     },
     "metadata": {
      "needs_background": "light"
     },
     "output_type": "display_data"
    }
   ],
   "source": [
    "face = sns.FacetGrid(data, hue=\"Exited\",aspect=3)\n",
    "face.map(sns.kdeplot,\"Balance\",shade= True)\n",
    "face.set(xlim=(0, data[\"Balance\"].max()))\n",
    "face.add_legend()\n",
    "plt.show()"
   ]
  },
  {
   "cell_type": "code",
   "execution_count": null,
   "metadata": {},
   "outputs": [],
   "source": []
  },
  {
   "cell_type": "code",
   "execution_count": 556,
   "metadata": {},
   "outputs": [
    {
     "data": {
      "text/plain": [
       "<matplotlib.axes._subplots.AxesSubplot at 0x2d061f00888>"
      ]
     },
     "execution_count": 556,
     "metadata": {},
     "output_type": "execute_result"
    },
    {
     "data": {
      "image/png": "[encoded data removed]",
      "text/plain": [
       "<Figure size 1080x576 with 2 Axes>"
      ]
     },
     "metadata": {
      "needs_background": "light"
     },
     "output_type": "display_data"
    }
   ],
   "source": [
    "plt.figure(figsize=(15,8))\n",
    "sns.heatmap(data.corr(),annot=True,)"
   ]
  },
  {
   "cell_type": "raw",
   "metadata": {},
   "source": [
    "Every values in column RowNumber and CustomerId are distinct\n",
    "This Features are not relevant to our model.So drop this feature\n",
    "Since Surname Feature has more categories ,we need to drop this"
   ]
  },
  {
   "cell_type": "markdown",
   "metadata": {},
   "source": [
    "DATA PREPARATION"
   ]
  },
  {
   "cell_type": "code",
   "execution_count": 557,
   "metadata": {},
   "outputs": [],
   "source": [
    "#Split data into features and labels\n",
    "X=data.drop(['Exited'],axis=1)\n",
    "y=data['Exited']"
   ]
  },
  {
   "cell_type": "code",
   "execution_count": 558,
   "metadata": {},
   "outputs": [
    {
     "data": {
      "text/html": [
       "<div>\n",
       "<style scoped>\n",
       "    .dataframe tbody tr th:only-of-type {\n",
       "        vertical-align: middle;\n",
       "    }\n",
       "\n",
       "    .dataframe tbody tr th {\n",
       "        vertical-align: top;\n",
       "    }\n",
       "\n",
       "    .dataframe thead th {\n",
       "        text-align: right;\n",
       "    }\n",
       "</style>\n",
       "<table border=\"1\" class=\"dataframe\">\n",
       "  <thead>\n",
       "    <tr style=\"text-align: right;\">\n",
       "      <th></th>\n",
       "      <th>RowNumber</th>\n",
       "      <th>CustomerId</th>\n",
       "      <th>Surname</th>\n",
       "      <th>CreditScore</th>\n",
       "      <th>Geography</th>\n",
       "      <th>Gender</th>\n",
       "      <th>Age</th>\n",
       "      <th>Tenure</th>\n",
       "      <th>Balance</th>\n",
       "      <th>NumOfProducts</th>\n",
       "      <th>HasCrCard</th>\n",
       "      <th>IsActiveMember</th>\n",
       "      <th>EstimatedSalary</th>\n",
       "    </tr>\n",
       "  </thead>\n",
       "  <tbody>\n",
       "    <tr>\n",
       "      <th>0</th>\n",
       "      <td>1</td>\n",
       "      <td>15634602</td>\n",
       "      <td>Hargrave</td>\n",
       "      <td>619</td>\n",
       "      <td>France</td>\n",
       "      <td>Female</td>\n",
       "      <td>42</td>\n",
       "      <td>2</td>\n",
       "      <td>0.00</td>\n",
       "      <td>1</td>\n",
       "      <td>1</td>\n",
       "      <td>1</td>\n",
       "      <td>101348.88</td>\n",
       "    </tr>\n",
       "    <tr>\n",
       "      <th>1</th>\n",
       "      <td>2</td>\n",
       "      <td>15647311</td>\n",
       "      <td>Hill</td>\n",
       "      <td>608</td>\n",
       "      <td>Spain</td>\n",
       "      <td>Female</td>\n",
       "      <td>41</td>\n",
       "      <td>1</td>\n",
       "      <td>83807.86</td>\n",
       "      <td>1</td>\n",
       "      <td>0</td>\n",
       "      <td>1</td>\n",
       "      <td>112542.58</td>\n",
       "    </tr>\n",
       "    <tr>\n",
       "      <th>2</th>\n",
       "      <td>3</td>\n",
       "      <td>15619304</td>\n",
       "      <td>Onio</td>\n",
       "      <td>502</td>\n",
       "      <td>France</td>\n",
       "      <td>Female</td>\n",
       "      <td>42</td>\n",
       "      <td>8</td>\n",
       "      <td>159660.80</td>\n",
       "      <td>3</td>\n",
       "      <td>1</td>\n",
       "      <td>0</td>\n",
       "      <td>113931.57</td>\n",
       "    </tr>\n",
       "    <tr>\n",
       "      <th>3</th>\n",
       "      <td>4</td>\n",
       "      <td>15701354</td>\n",
       "      <td>Boni</td>\n",
       "      <td>699</td>\n",
       "      <td>France</td>\n",
       "      <td>Female</td>\n",
       "      <td>39</td>\n",
       "      <td>1</td>\n",
       "      <td>0.00</td>\n",
       "      <td>2</td>\n",
       "      <td>0</td>\n",
       "      <td>0</td>\n",
       "      <td>93826.63</td>\n",
       "    </tr>\n",
       "    <tr>\n",
       "      <th>4</th>\n",
       "      <td>5</td>\n",
       "      <td>15737888</td>\n",
       "      <td>Mitchell</td>\n",
       "      <td>850</td>\n",
       "      <td>Spain</td>\n",
       "      <td>Female</td>\n",
       "      <td>43</td>\n",
       "      <td>2</td>\n",
       "      <td>125510.82</td>\n",
       "      <td>1</td>\n",
       "      <td>1</td>\n",
       "      <td>1</td>\n",
       "      <td>79084.10</td>\n",
       "    </tr>\n",
       "  </tbody>\n",
       "</table>\n",
       "</div>"
      ],
      "text/plain": [
       "   RowNumber  CustomerId   Surname  CreditScore Geography  Gender  Age  \\\n",
       "0          1    15634602  Hargrave          619    France  Female   42   \n",
       "1          2    15647311      Hill          608     Spain  Female   41   \n",
       "2          3    15619304      Onio          502    France  Female   42   \n",
       "3          4    15701354      Boni          699    France  Female   39   \n",
       "4          5    15737888  Mitchell          850     Spain  Female   43   \n",
       "\n",
       "   Tenure    Balance  NumOfProducts  HasCrCard  IsActiveMember  \\\n",
       "0       2       0.00              1          1               1   \n",
       "1       1   83807.86              1          0               1   \n",
       "2       8  159660.80              3          1               0   \n",
       "3       1       0.00              2          0               0   \n",
       "4       2  125510.82              1          1               1   \n",
       "\n",
       "   EstimatedSalary  \n",
       "0        101348.88  \n",
       "1        112542.58  \n",
       "2        113931.57  \n",
       "3         93826.63  \n",
       "4         79084.10  "
      ]
     },
     "execution_count": 558,
     "metadata": {},
     "output_type": "execute_result"
    }
   ],
   "source": [
    "X.head()"
   ]
  },
  {
   "cell_type": "code",
   "execution_count": 559,
   "metadata": {},
   "outputs": [
    {
     "data": {
      "text/plain": [
       "RowNumber          10000\n",
       "CustomerId         10000\n",
       "Surname             2932\n",
       "CreditScore          460\n",
       "Geography              3\n",
       "Gender                 2\n",
       "Age                   70\n",
       "Tenure                11\n",
       "Balance             6382\n",
       "NumOfProducts          4\n",
       "HasCrCard              2\n",
       "IsActiveMember         2\n",
       "EstimatedSalary     9999\n",
       "dtype: int64"
      ]
     },
     "execution_count": 559,
     "metadata": {},
     "output_type": "execute_result"
    }
   ],
   "source": [
    "#check no of unique values in each column of X\n",
    "X.nunique(axis=0)"
   ]
  },
  {
   "cell_type": "raw",
   "metadata": {},
   "source": [
    "#observation=>\n",
    "This data has 10 numeric feature and 3 categorical feature\n",
    " Machine learning Model doesn't do well for text feature . \n",
    " So we need to convert this categorical feature into numerical by encoding"
   ]
  },
  {
   "cell_type": "code",
   "execution_count": 560,
   "metadata": {},
   "outputs": [],
   "source": [
    "#Drop unnecessary features\n",
    "X.drop(['RowNumber','CustomerId'],inplace=True,axis=1)"
   ]
  },
  {
   "cell_type": "code",
   "execution_count": 561,
   "metadata": {},
   "outputs": [],
   "source": [
    "#Convert categorical feature into numerical feature by using one-hot encoding\n",
    "state=pd.get_dummies(X['Geography'])\n",
    "gender=pd.get_dummies(X['Gender'])"
   ]
  },
  {
   "cell_type": "code",
   "execution_count": 562,
   "metadata": {},
   "outputs": [],
   "source": [
    "#concatenate newly created feature with X\n",
    "X=pd.concat([X,state,gender],axis=1)"
   ]
  },
  {
   "cell_type": "code",
   "execution_count": 563,
   "metadata": {},
   "outputs": [],
   "source": [
    "#Drop unnecessary features by droping column wise\n",
    "X.drop(['Surname','Geography','Gender'],inplace=True,axis=1)"
   ]
  },
  {
   "cell_type": "code",
   "execution_count": 564,
   "metadata": {},
   "outputs": [
    {
     "data": {
      "text/html": [
       "<div>\n",
       "<style scoped>\n",
       "    .dataframe tbody tr th:only-of-type {\n",
       "        vertical-align: middle;\n",
       "    }\n",
       "\n",
       "    .dataframe tbody tr th {\n",
       "        vertical-align: top;\n",
       "    }\n",
       "\n",
       "    .dataframe thead th {\n",
       "        text-align: right;\n",
       "    }\n",
       "</style>\n",
       "<table border=\"1\" class=\"dataframe\">\n",
       "  <thead>\n",
       "    <tr style=\"text-align: right;\">\n",
       "      <th></th>\n",
       "      <th>CreditScore</th>\n",
       "      <th>Age</th>\n",
       "      <th>Tenure</th>\n",
       "      <th>Balance</th>\n",
       "      <th>NumOfProducts</th>\n",
       "      <th>HasCrCard</th>\n",
       "      <th>IsActiveMember</th>\n",
       "      <th>EstimatedSalary</th>\n",
       "      <th>France</th>\n",
       "      <th>Germany</th>\n",
       "      <th>Spain</th>\n",
       "      <th>Female</th>\n",
       "      <th>Male</th>\n",
       "    </tr>\n",
       "  </thead>\n",
       "  <tbody>\n",
       "    <tr>\n",
       "      <th>0</th>\n",
       "      <td>619</td>\n",
       "      <td>42</td>\n",
       "      <td>2</td>\n",
       "      <td>0.00</td>\n",
       "      <td>1</td>\n",
       "      <td>1</td>\n",
       "      <td>1</td>\n",
       "      <td>101348.88</td>\n",
       "      <td>1</td>\n",
       "      <td>0</td>\n",
       "      <td>0</td>\n",
       "      <td>1</td>\n",
       "      <td>0</td>\n",
       "    </tr>\n",
       "    <tr>\n",
       "      <th>1</th>\n",
       "      <td>608</td>\n",
       "      <td>41</td>\n",
       "      <td>1</td>\n",
       "      <td>83807.86</td>\n",
       "      <td>1</td>\n",
       "      <td>0</td>\n",
       "      <td>1</td>\n",
       "      <td>112542.58</td>\n",
       "      <td>0</td>\n",
       "      <td>0</td>\n",
       "      <td>1</td>\n",
       "      <td>1</td>\n",
       "      <td>0</td>\n",
       "    </tr>\n",
       "    <tr>\n",
       "      <th>2</th>\n",
       "      <td>502</td>\n",
       "      <td>42</td>\n",
       "      <td>8</td>\n",
       "      <td>159660.80</td>\n",
       "      <td>3</td>\n",
       "      <td>1</td>\n",
       "      <td>0</td>\n",
       "      <td>113931.57</td>\n",
       "      <td>1</td>\n",
       "      <td>0</td>\n",
       "      <td>0</td>\n",
       "      <td>1</td>\n",
       "      <td>0</td>\n",
       "    </tr>\n",
       "    <tr>\n",
       "      <th>3</th>\n",
       "      <td>699</td>\n",
       "      <td>39</td>\n",
       "      <td>1</td>\n",
       "      <td>0.00</td>\n",
       "      <td>2</td>\n",
       "      <td>0</td>\n",
       "      <td>0</td>\n",
       "      <td>93826.63</td>\n",
       "      <td>1</td>\n",
       "      <td>0</td>\n",
       "      <td>0</td>\n",
       "      <td>1</td>\n",
       "      <td>0</td>\n",
       "    </tr>\n",
       "    <tr>\n",
       "      <th>4</th>\n",
       "      <td>850</td>\n",
       "      <td>43</td>\n",
       "      <td>2</td>\n",
       "      <td>125510.82</td>\n",
       "      <td>1</td>\n",
       "      <td>1</td>\n",
       "      <td>1</td>\n",
       "      <td>79084.10</td>\n",
       "      <td>0</td>\n",
       "      <td>0</td>\n",
       "      <td>1</td>\n",
       "      <td>1</td>\n",
       "      <td>0</td>\n",
       "    </tr>\n",
       "  </tbody>\n",
       "</table>\n",
       "</div>"
      ],
      "text/plain": [
       "   CreditScore  Age  Tenure    Balance  NumOfProducts  HasCrCard  \\\n",
       "0          619   42       2       0.00              1          1   \n",
       "1          608   41       1   83807.86              1          0   \n",
       "2          502   42       8  159660.80              3          1   \n",
       "3          699   39       1       0.00              2          0   \n",
       "4          850   43       2  125510.82              1          1   \n",
       "\n",
       "   IsActiveMember  EstimatedSalary  France  Germany  Spain  Female  Male  \n",
       "0               1        101348.88       1        0      0       1     0  \n",
       "1               1        112542.58       0        0      1       1     0  \n",
       "2               0        113931.57       1        0      0       1     0  \n",
       "3               0         93826.63       1        0      0       1     0  \n",
       "4               1         79084.10       0        0      1       1     0  "
      ]
     },
     "execution_count": 564,
     "metadata": {},
     "output_type": "execute_result"
    }
   ],
   "source": [
    "X.head()"
   ]
  },
  {
   "cell_type": "markdown",
   "metadata": {},
   "source": [
    "SAMPLING"
   ]
  },
  {
   "cell_type": "raw",
   "metadata": {},
   "source": [
    "Since only 20% of the dataset is churned while almost 80% dataare for retained customer,This dataset is considered to be imbalanced data\n",
    "We can overcome this problem either by over-sampling(adding minority class) or under-sampling(removing majority class)\n",
    "Here We used over-sampling method named as SMOTE (Synthetic Minority Oversampling Method)"
   ]
  },
  {
   "cell_type": "code",
   "execution_count": 585,
   "metadata": {},
   "outputs": [],
   "source": [
    "#import packages for SMOTE\n",
    "from imblearn.over_sampling import SMOTE\n",
    "over_sampling=SMOTE(random_state=42)\n",
    "X_sample,y_sample=over_sampling.fit_sample(X,y)"
   ]
  },
  {
   "cell_type": "code",
   "execution_count": 566,
   "metadata": {},
   "outputs": [
    {
     "name": "stdout",
     "output_type": "stream",
     "text": [
      "Counter({0: 7963, 1: 2037})\n",
      "Counter({1: 7963, 0: 7963})\n"
     ]
    }
   ],
   "source": [
    "print(Counter(y))\n",
    "print(Counter(y_sample))"
   ]
  },
  {
   "cell_type": "code",
   "execution_count": 567,
   "metadata": {},
   "outputs": [
    {
     "name": "stdout",
     "output_type": "stream",
     "text": [
      "No of retained customer before sampling 7963 and no of churned customer before sampling 2037\n",
      "No of retained customer after sampling 7963 and no of churned customer after sampling 7963\n"
     ]
    }
   ],
   "source": [
    "print(\"No of retained customer before sampling {} and no of churned customer before sampling {}\".format(Counter(y)[0],Counter(y)[1]))\n",
    "print(\"No of retained customer after sampling {} and no of churned customer after sampling {}\".format(Counter(y_sample)[0],Counter(y_sample)[1]))"
   ]
  },
  {
   "cell_type": "markdown",
   "metadata": {},
   "source": [
    "SPLIT DATASET FOR TRAINING"
   ]
  },
  {
   "cell_type": "code",
   "execution_count": 568,
   "metadata": {},
   "outputs": [],
   "source": [
    "#split data into train and test set\n",
    "X_train,X_test,y_train,y_test=train_test_split(X_sample,y_sample,test_size=0.2,random_state=0)"
   ]
  },
  {
   "cell_type": "markdown",
   "metadata": {},
   "source": [
    "NORMALIZE DATA"
   ]
  },
  {
   "cell_type": "markdown",
   "metadata": {},
   "source": [
    "Each feature of the data is of different scale So we need to normalize the data into same scale having mean 0 and standard deviation 1  for better model prediction"
   ]
  },
  {
   "cell_type": "code",
   "execution_count": 569,
   "metadata": {},
   "outputs": [],
   "source": [
    "#create instance of StandardScaler\n",
    "scaler=StandardScaler()\n",
    "X_train=scaler.fit_transform(X_train)\n",
    "X_test=scaler.transform(X_test)"
   ]
  },
  {
   "cell_type": "markdown",
   "metadata": {},
   "source": [
    "CREATE ANN MODEL"
   ]
  },
  {
   "cell_type": "code",
   "execution_count": 570,
   "metadata": {},
   "outputs": [],
   "source": [
    "#Initialising the ANN\n",
    "model=Sequential()\n",
    "#add input layer and first hidden layer\n",
    "model.add(Dense(6,input_shape=(X_train.shape[1],),activation='relu',kernel_initializer='uniform'))\n",
    "model.add(BatchNormalization())\n",
    "#add second hidden layer\n",
    "model.add(Dense(6,activation='relu',kernel_initializer='uniform'))\n",
    "model.add(BatchNormalization())\n",
    "#add third hidden layer\n",
    "model.add(Dense(6,activation='relu',kernel_initializer='uniform'))\n",
    "model.add(BatchNormalization())\n",
    "#add output layer\n",
    "model.add(Dense(1,activation='sigmoid',kernel_initializer='uniform'))\n",
    "#compiling the ANN\n",
    "model.compile(optimizer = 'Adam', loss = 'binary_crossentropy', metrics = ['accuracy'])"
   ]
  },
  {
   "cell_type": "code",
   "execution_count": 571,
   "metadata": {},
   "outputs": [
    {
     "name": "stdout",
     "output_type": "stream",
     "text": [
      "Model: \"sequential_36\"\n",
      "_________________________________________________________________\n",
      "Layer (type)                 Output Shape              Param #   \n",
      "=================================================================\n",
      "dense_142 (Dense)            (None, 6)                 84        \n",
      "_________________________________________________________________\n",
      "batch_normalization_61 (Batc (None, 6)                 24        \n",
      "_________________________________________________________________\n",
      "dense_143 (Dense)            (None, 6)                 42        \n",
      "_________________________________________________________________\n",
      "batch_normalization_62 (Batc (None, 6)                 24        \n",
      "_________________________________________________________________\n",
      "dense_144 (Dense)            (None, 6)                 42        \n",
      "_________________________________________________________________\n",
      "batch_normalization_63 (Batc (None, 6)                 24        \n",
      "_________________________________________________________________\n",
      "dense_145 (Dense)            (None, 1)                 7         \n",
      "=================================================================\n",
      "Total params: 247\n",
      "Trainable params: 211\n",
      "Non-trainable params: 36\n",
      "_________________________________________________________________\n"
     ]
    }
   ],
   "source": [
    "model.summary()"
   ]
  },
  {
   "cell_type": "code",
   "execution_count": 572,
   "metadata": {},
   "outputs": [
    {
     "name": "stdout",
     "output_type": "stream",
     "text": [
      "Train on 10192 samples, validate on 2548 samples\n",
      "Epoch 1/100\n",
      "10192/10192 [==============================] - 7s 661us/step - loss: 0.5530 - accuracy: 0.7660 - val_loss: 0.6819 - val_accuracy: 0.8422\n",
      "Epoch 2/100\n",
      "10192/10192 [==============================] - 1s 70us/step - loss: 0.3466 - accuracy: 0.8651 - val_loss: 0.5754 - val_accuracy: 0.8203\n",
      "Epoch 3/100\n",
      "10192/10192 [==============================] - 1s 70us/step - loss: 0.3164 - accuracy: 0.8652 - val_loss: 0.3646 - val_accuracy: 0.8626\n",
      "Epoch 4/100\n",
      "10192/10192 [==============================] - 1s 76us/step - loss: 0.3072 - accuracy: 0.8697 - val_loss: 0.3028 - val_accuracy: 0.8736\n",
      "Epoch 5/100\n",
      "10192/10192 [==============================] - 1s 77us/step - loss: 0.3021 - accuracy: 0.8660 - val_loss: 0.2979 - val_accuracy: 0.8713\n",
      "Epoch 6/100\n",
      "10192/10192 [==============================] - 1s 69us/step - loss: 0.3039 - accuracy: 0.8688 - val_loss: 0.2958 - val_accuracy: 0.8709\n",
      "Epoch 7/100\n",
      "10192/10192 [==============================] - 1s 66us/step - loss: 0.2993 - accuracy: 0.8699 - val_loss: 0.3019 - val_accuracy: 0.8689\n",
      "Epoch 8/100\n",
      "10192/10192 [==============================] - 1s 65us/step - loss: 0.2971 - accuracy: 0.8690 - val_loss: 0.2948 - val_accuracy: 0.8732\n",
      "Epoch 9/100\n",
      "10192/10192 [==============================] - 1s 63us/step - loss: 0.2950 - accuracy: 0.8748 - val_loss: 0.2982 - val_accuracy: 0.8670\n",
      "Epoch 10/100\n",
      "10192/10192 [==============================] - 1s 68us/step - loss: 0.2956 - accuracy: 0.8708 - val_loss: 0.2969 - val_accuracy: 0.8677\n",
      "Epoch 11/100\n",
      "10192/10192 [==============================] - 1s 77us/step - loss: 0.2956 - accuracy: 0.8692 - val_loss: 0.2950 - val_accuracy: 0.8721\n",
      "Epoch 12/100\n",
      "10192/10192 [==============================] - 1s 72us/step - loss: 0.2941 - accuracy: 0.8727 - val_loss: 0.2917 - val_accuracy: 0.8744\n",
      "Epoch 13/100\n",
      "10192/10192 [==============================] - 1s 78us/step - loss: 0.2954 - accuracy: 0.8673 - val_loss: 0.2975 - val_accuracy: 0.8697\n",
      "Epoch 14/100\n",
      "10192/10192 [==============================] - 1s 68us/step - loss: 0.2939 - accuracy: 0.8724 - val_loss: 0.2944 - val_accuracy: 0.8744\n",
      "Epoch 15/100\n",
      "10192/10192 [==============================] - 1s 68us/step - loss: 0.2902 - accuracy: 0.8720 - val_loss: 0.2924 - val_accuracy: 0.8728\n",
      "Epoch 16/100\n",
      "10192/10192 [==============================] - 1s 69us/step - loss: 0.2937 - accuracy: 0.8677 - val_loss: 0.3042 - val_accuracy: 0.8662\n",
      "Epoch 17/100\n",
      "10192/10192 [==============================] - 1s 66us/step - loss: 0.2949 - accuracy: 0.8726 - val_loss: 0.2889 - val_accuracy: 0.8744\n",
      "Epoch 18/100\n",
      "10192/10192 [==============================] - 1s 73us/step - loss: 0.2920 - accuracy: 0.8729 - val_loss: 0.2902 - val_accuracy: 0.8756\n",
      "Epoch 19/100\n",
      "10192/10192 [==============================] - 1s 75us/step - loss: 0.2915 - accuracy: 0.8716 - val_loss: 0.2913 - val_accuracy: 0.8728\n",
      "Epoch 20/100\n",
      "10192/10192 [==============================] - 1s 79us/step - loss: 0.2880 - accuracy: 0.8751 - val_loss: 0.2889 - val_accuracy: 0.8724\n",
      "Epoch 21/100\n",
      "10192/10192 [==============================] - 1s 76us/step - loss: 0.2918 - accuracy: 0.8716 - val_loss: 0.2932 - val_accuracy: 0.8744\n",
      "Epoch 22/100\n",
      "10192/10192 [==============================] - 1s 79us/step - loss: 0.2869 - accuracy: 0.8727 - val_loss: 0.2915 - val_accuracy: 0.8736\n",
      "Epoch 23/100\n",
      "10192/10192 [==============================] - 1s 66us/step - loss: 0.2904 - accuracy: 0.8744 - val_loss: 0.2954 - val_accuracy: 0.8732\n",
      "Epoch 24/100\n",
      "10192/10192 [==============================] - 1s 67us/step - loss: 0.2917 - accuracy: 0.8716 - val_loss: 0.2936 - val_accuracy: 0.8693\n",
      "Epoch 25/100\n",
      "10192/10192 [==============================] - 1s 65us/step - loss: 0.2908 - accuracy: 0.8727 - val_loss: 0.2883 - val_accuracy: 0.8744\n",
      "Epoch 26/100\n",
      "10192/10192 [==============================] - 1s 69us/step - loss: 0.2902 - accuracy: 0.8709 - val_loss: 0.2951 - val_accuracy: 0.8717\n",
      "Epoch 27/100\n",
      "10192/10192 [==============================] - 1s 71us/step - loss: 0.2891 - accuracy: 0.8726 - val_loss: 0.2892 - val_accuracy: 0.8732\n",
      "Epoch 28/100\n",
      "10192/10192 [==============================] - 1s 76us/step - loss: 0.2891 - accuracy: 0.8710 - val_loss: 0.2896 - val_accuracy: 0.8744\n",
      "Epoch 29/100\n",
      "10192/10192 [==============================] - 1s 72us/step - loss: 0.2918 - accuracy: 0.8701 - val_loss: 0.2878 - val_accuracy: 0.8717\n",
      "Epoch 30/100\n",
      "10192/10192 [==============================] - 1s 68us/step - loss: 0.2885 - accuracy: 0.8748 - val_loss: 0.2906 - val_accuracy: 0.8724\n",
      "Epoch 31/100\n",
      "10192/10192 [==============================] - 1s 65us/step - loss: 0.2878 - accuracy: 0.8717 - val_loss: 0.2906 - val_accuracy: 0.8724\n",
      "Epoch 32/100\n",
      "10192/10192 [==============================] - 1s 72us/step - loss: 0.2882 - accuracy: 0.8739 - val_loss: 0.2891 - val_accuracy: 0.8717\n",
      "Epoch 33/100\n",
      "10192/10192 [==============================] - 1s 73us/step - loss: 0.2907 - accuracy: 0.8699 - val_loss: 0.2901 - val_accuracy: 0.8728\n",
      "Epoch 34/100\n",
      "10192/10192 [==============================] - 1s 69us/step - loss: 0.2876 - accuracy: 0.8714 - val_loss: 0.2877 - val_accuracy: 0.8728\n",
      "Epoch 35/100\n",
      "10192/10192 [==============================] - 1s 72us/step - loss: 0.2867 - accuracy: 0.8724 - val_loss: 0.2910 - val_accuracy: 0.8732\n",
      "Epoch 36/100\n",
      "10192/10192 [==============================] - 1s 79us/step - loss: 0.2911 - accuracy: 0.8726 - val_loss: 0.2875 - val_accuracy: 0.8701\n",
      "Epoch 37/100\n",
      "10192/10192 [==============================] - 1s 70us/step - loss: 0.2865 - accuracy: 0.8728 - val_loss: 0.2916 - val_accuracy: 0.8724\n",
      "Epoch 38/100\n",
      "10192/10192 [==============================] - 1s 69us/step - loss: 0.2890 - accuracy: 0.8730 - val_loss: 0.2883 - val_accuracy: 0.8744\n",
      "Epoch 39/100\n",
      "10192/10192 [==============================] - 1s 65us/step - loss: 0.2897 - accuracy: 0.8728 - val_loss: 0.2879 - val_accuracy: 0.8728\n",
      "Epoch 40/100\n",
      "10192/10192 [==============================] - 1s 73us/step - loss: 0.2909 - accuracy: 0.8701 - val_loss: 0.2906 - val_accuracy: 0.8705\n",
      "Epoch 41/100\n",
      "10192/10192 [==============================] - 1s 74us/step - loss: 0.2901 - accuracy: 0.8711 - val_loss: 0.2889 - val_accuracy: 0.8744\n",
      "Epoch 42/100\n",
      "10192/10192 [==============================] - 1s 73us/step - loss: 0.2877 - accuracy: 0.8709 - val_loss: 0.2890 - val_accuracy: 0.8701\n",
      "Epoch 43/100\n",
      "10192/10192 [==============================] - 1s 76us/step - loss: 0.2859 - accuracy: 0.8743 - val_loss: 0.2869 - val_accuracy: 0.8732\n",
      "Epoch 44/100\n",
      "10192/10192 [==============================] - 1s 78us/step - loss: 0.2855 - accuracy: 0.8737 - val_loss: 0.2912 - val_accuracy: 0.8721\n",
      "Epoch 45/100\n",
      "10192/10192 [==============================] - 1s 67us/step - loss: 0.2865 - accuracy: 0.8722 - val_loss: 0.2864 - val_accuracy: 0.8772\n",
      "Epoch 46/100\n",
      "10192/10192 [==============================] - 1s 67us/step - loss: 0.2873 - accuracy: 0.8731 - val_loss: 0.2893 - val_accuracy: 0.8685\n",
      "Epoch 47/100\n",
      "10192/10192 [==============================] - 1s 66us/step - loss: 0.2881 - accuracy: 0.8739 - val_loss: 0.2868 - val_accuracy: 0.8713\n",
      "Epoch 48/100\n",
      "10192/10192 [==============================] - 1s 70us/step - loss: 0.2869 - accuracy: 0.8765 - val_loss: 0.2858 - val_accuracy: 0.8728\n",
      "Epoch 49/100\n",
      "10192/10192 [==============================] - 1s 69us/step - loss: 0.2883 - accuracy: 0.8730 - val_loss: 0.2894 - val_accuracy: 0.8724\n",
      "Epoch 50/100\n",
      "10192/10192 [==============================] - 1s 66us/step - loss: 0.2848 - accuracy: 0.8727 - val_loss: 0.2872 - val_accuracy: 0.8709\n",
      "Epoch 51/100\n",
      "10192/10192 [==============================] - 1s 78us/step - loss: 0.2865 - accuracy: 0.8747 - val_loss: 0.2872 - val_accuracy: 0.8724\n",
      "Epoch 52/100\n",
      "10192/10192 [==============================] - 1s 76us/step - loss: 0.2885 - accuracy: 0.8724 - val_loss: 0.2877 - val_accuracy: 0.8705\n",
      "Epoch 53/100\n",
      "10192/10192 [==============================] - 1s 68us/step - loss: 0.2870 - accuracy: 0.8736 - val_loss: 0.2981 - val_accuracy: 0.8724\n",
      "Epoch 54/100\n",
      "10192/10192 [==============================] - 1s 69us/step - loss: 0.2862 - accuracy: 0.8748 - val_loss: 0.2892 - val_accuracy: 0.8713\n",
      "Epoch 55/100\n",
      "10192/10192 [==============================] - 1s 66us/step - loss: 0.2858 - accuracy: 0.8751 - val_loss: 0.2896 - val_accuracy: 0.8709\n"
     ]
    },
    {
     "name": "stdout",
     "output_type": "stream",
     "text": [
      "Epoch 56/100\n",
      "10192/10192 [==============================] - 1s 67us/step - loss: 0.2852 - accuracy: 0.8730 - val_loss: 0.2892 - val_accuracy: 0.8689\n",
      "Epoch 57/100\n",
      "10192/10192 [==============================] - 1s 65us/step - loss: 0.2854 - accuracy: 0.8725 - val_loss: 0.2889 - val_accuracy: 0.8724\n",
      "Epoch 58/100\n",
      "10192/10192 [==============================] - 1s 65us/step - loss: 0.2831 - accuracy: 0.8760 - val_loss: 0.2875 - val_accuracy: 0.8693\n",
      "Epoch 59/100\n",
      "10192/10192 [==============================] - 1s 72us/step - loss: 0.2847 - accuracy: 0.8741 - val_loss: 0.2863 - val_accuracy: 0.8697\n",
      "Epoch 60/100\n",
      "10192/10192 [==============================] - 1s 73us/step - loss: 0.2893 - accuracy: 0.8708 - val_loss: 0.2884 - val_accuracy: 0.8756\n",
      "Epoch 61/100\n",
      "10192/10192 [==============================] - 1s 69us/step - loss: 0.2866 - accuracy: 0.8740 - val_loss: 0.2865 - val_accuracy: 0.8713\n",
      "Epoch 62/100\n",
      "10192/10192 [==============================] - 1s 71us/step - loss: 0.2859 - accuracy: 0.8743 - val_loss: 0.2835 - val_accuracy: 0.8728\n",
      "Epoch 63/100\n",
      "10192/10192 [==============================] - 1s 73us/step - loss: 0.2861 - accuracy: 0.8715 - val_loss: 0.2871 - val_accuracy: 0.8728\n",
      "Epoch 64/100\n",
      "10192/10192 [==============================] - 1s 71us/step - loss: 0.2837 - accuracy: 0.8742 - val_loss: 0.2890 - val_accuracy: 0.8689\n",
      "Epoch 65/100\n",
      "10192/10192 [==============================] - 1s 67us/step - loss: 0.2850 - accuracy: 0.8746 - val_loss: 0.2897 - val_accuracy: 0.8740\n",
      "Epoch 66/100\n",
      "10192/10192 [==============================] - 1s 67us/step - loss: 0.2839 - accuracy: 0.8742 - val_loss: 0.2855 - val_accuracy: 0.8709\n",
      "Epoch 67/100\n",
      "10192/10192 [==============================] - 1s 75us/step - loss: 0.2850 - accuracy: 0.8731 - val_loss: 0.2860 - val_accuracy: 0.8709\n",
      "Epoch 68/100\n",
      "10192/10192 [==============================] - 1s 71us/step - loss: 0.2886 - accuracy: 0.8705 - val_loss: 0.2850 - val_accuracy: 0.8740\n",
      "Epoch 69/100\n",
      "10192/10192 [==============================] - 1s 66us/step - loss: 0.2849 - accuracy: 0.8708 - val_loss: 0.2872 - val_accuracy: 0.8713\n",
      "Epoch 70/100\n",
      "10192/10192 [==============================] - 1s 68us/step - loss: 0.2877 - accuracy: 0.8722 - val_loss: 0.2880 - val_accuracy: 0.8677\n",
      "Epoch 71/100\n",
      "10192/10192 [==============================] - 1s 64us/step - loss: 0.2892 - accuracy: 0.8724 - val_loss: 0.2880 - val_accuracy: 0.8728\n",
      "Epoch 72/100\n",
      "10192/10192 [==============================] - 1s 66us/step - loss: 0.2873 - accuracy: 0.8717 - val_loss: 0.2871 - val_accuracy: 0.8713\n",
      "Epoch 73/100\n",
      "10192/10192 [==============================] - 1s 64us/step - loss: 0.2841 - accuracy: 0.8740 - val_loss: 0.2867 - val_accuracy: 0.8724\n",
      "Epoch 74/100\n",
      "10192/10192 [==============================] - 1s 67us/step - loss: 0.2833 - accuracy: 0.8737 - val_loss: 0.2867 - val_accuracy: 0.8724\n",
      "Epoch 75/100\n",
      "10192/10192 [==============================] - 1s 73us/step - loss: 0.2842 - accuracy: 0.8745 - val_loss: 0.2940 - val_accuracy: 0.8744\n",
      "Epoch 76/100\n",
      "10192/10192 [==============================] - 1s 74us/step - loss: 0.2835 - accuracy: 0.8732 - val_loss: 0.2894 - val_accuracy: 0.8666\n",
      "Epoch 77/100\n",
      "10192/10192 [==============================] - 1s 66us/step - loss: 0.2844 - accuracy: 0.8734 - val_loss: 0.2865 - val_accuracy: 0.8709\n",
      "Epoch 78/100\n",
      "10192/10192 [==============================] - 1s 65us/step - loss: 0.2874 - accuracy: 0.8727 - val_loss: 0.2899 - val_accuracy: 0.8717\n",
      "Epoch 79/100\n",
      "10192/10192 [==============================] - 1s 66us/step - loss: 0.2851 - accuracy: 0.8717 - val_loss: 0.2855 - val_accuracy: 0.8740\n",
      "Epoch 80/100\n",
      "10192/10192 [==============================] - 1s 65us/step - loss: 0.2837 - accuracy: 0.8732 - val_loss: 0.2898 - val_accuracy: 0.8724\n",
      "Epoch 81/100\n",
      "10192/10192 [==============================] - 1s 64us/step - loss: 0.2852 - accuracy: 0.8748 - val_loss: 0.2866 - val_accuracy: 0.8728\n",
      "Epoch 82/100\n",
      "10192/10192 [==============================] - 1s 68us/step - loss: 0.2825 - accuracy: 0.8770 - val_loss: 0.2871 - val_accuracy: 0.8721\n",
      "Epoch 83/100\n",
      "10192/10192 [==============================] - 1s 71us/step - loss: 0.2843 - accuracy: 0.8746 - val_loss: 0.2879 - val_accuracy: 0.8709\n",
      "Epoch 84/100\n",
      "10192/10192 [==============================] - 1s 78us/step - loss: 0.2843 - accuracy: 0.8756 - val_loss: 0.2903 - val_accuracy: 0.8740\n",
      "Epoch 85/100\n",
      "10192/10192 [==============================] - 1s 71us/step - loss: 0.2820 - accuracy: 0.8763 - val_loss: 0.2868 - val_accuracy: 0.8736\n",
      "Epoch 86/100\n",
      "10192/10192 [==============================] - 1s 71us/step - loss: 0.2834 - accuracy: 0.8769 - val_loss: 0.2913 - val_accuracy: 0.8760\n",
      "Epoch 87/100\n",
      "10192/10192 [==============================] - 1s 72us/step - loss: 0.2825 - accuracy: 0.8738 - val_loss: 0.2881 - val_accuracy: 0.8709\n",
      "Epoch 88/100\n",
      "10192/10192 [==============================] - 1s 72us/step - loss: 0.2836 - accuracy: 0.8749 - val_loss: 0.2882 - val_accuracy: 0.8752\n",
      "Epoch 89/100\n",
      "10192/10192 [==============================] - 1s 66us/step - loss: 0.2840 - accuracy: 0.8776 - val_loss: 0.2859 - val_accuracy: 0.8709\n",
      "Epoch 90/100\n",
      "10192/10192 [==============================] - 1s 69us/step - loss: 0.2832 - accuracy: 0.8732 - val_loss: 0.2894 - val_accuracy: 0.8740\n",
      "Epoch 91/100\n",
      "10192/10192 [==============================] - 1s 71us/step - loss: 0.2821 - accuracy: 0.8734 - val_loss: 0.2878 - val_accuracy: 0.8724\n",
      "Epoch 92/100\n",
      "10192/10192 [==============================] - 1s 78us/step - loss: 0.2856 - accuracy: 0.8740 - val_loss: 0.2899 - val_accuracy: 0.8677\n",
      "Epoch 93/100\n",
      "10192/10192 [==============================] - 1s 67us/step - loss: 0.2807 - accuracy: 0.8759 - val_loss: 0.2867 - val_accuracy: 0.8681\n",
      "Epoch 94/100\n",
      "10192/10192 [==============================] - 1s 65us/step - loss: 0.2845 - accuracy: 0.8721 - val_loss: 0.2858 - val_accuracy: 0.8717\n",
      "Epoch 95/100\n",
      "10192/10192 [==============================] - 1s 68us/step - loss: 0.2798 - accuracy: 0.8763 - val_loss: 0.2878 - val_accuracy: 0.8705\n",
      "Epoch 96/100\n",
      "10192/10192 [==============================] - 1s 66us/step - loss: 0.2828 - accuracy: 0.8730 - val_loss: 0.2868 - val_accuracy: 0.8728\n",
      "Epoch 97/100\n",
      "10192/10192 [==============================] - 1s 67us/step - loss: 0.2841 - accuracy: 0.8751 - val_loss: 0.2875 - val_accuracy: 0.8697\n",
      "Epoch 98/100\n",
      "10192/10192 [==============================] - 1s 72us/step - loss: 0.2826 - accuracy: 0.8753 - val_loss: 0.2859 - val_accuracy: 0.8724\n",
      "Epoch 99/100\n",
      "10192/10192 [==============================] - 1s 70us/step - loss: 0.2832 - accuracy: 0.8732 - val_loss: 0.2907 - val_accuracy: 0.8736\n",
      "Epoch 100/100\n",
      "10192/10192 [==============================] - 1s 77us/step - loss: 0.2814 - accuracy: 0.8746 - val_loss: 0.2909 - val_accuracy: 0.8658\n"
     ]
    }
   ],
   "source": [
    "#Fitting the ANN to the training set\n",
    "history=model.fit(X_train,y_train,epochs=100,batch_size=64,validation_split=0.2)"
   ]
  },
  {
   "cell_type": "code",
   "execution_count": 573,
   "metadata": {},
   "outputs": [
    {
     "name": "stdout",
     "output_type": "stream",
     "text": [
      "3186/3186 [==============================] - 0s 48us/step\n",
      "loss value of model is 0.2834113085150195 and accuracy is 0.8684871196746826\n"
     ]
    }
   ],
   "source": [
    "#evaluate model performance\n",
    "eva=model.evaluate(X_test,y_test)\n",
    "print(\"loss value of model is {} and accuracy is {}\".format(eva[0],eva[1]))"
   ]
  },
  {
   "cell_type": "markdown",
   "metadata": {},
   "source": [
    "VISUALIZING MODEL PERFORMANCE"
   ]
  },
  {
   "cell_type": "code",
   "execution_count": 574,
   "metadata": {},
   "outputs": [
    {
     "data": {
      "image/png": "[encoded data removed]",
      "text/plain": [
       "<Figure size 432x288 with 1 Axes>"
      ]
     },
     "metadata": {
      "needs_background": "light"
     },
     "output_type": "display_data"
    }
   ],
   "source": [
    "# Plot train vs test accuracy per epoch\n",
    "plt.figure()\n",
    "# Use the history metrics\n",
    "plt.plot(history.history['accuracy'])\n",
    "plt.plot(history.history['val_accuracy'])\n",
    "# Make it pretty\n",
    "plt.title('Model accuracy')\n",
    "plt.ylabel('Accuracy')\n",
    "plt.xlabel('Epoch')\n",
    "plt.legend(['Train', 'Test'])\n",
    "plt.show()"
   ]
  },
  {
   "cell_type": "code",
   "execution_count": 575,
   "metadata": {},
   "outputs": [
    {
     "data": {
      "image/png": "[encoded data removed]",
      "text/plain": [
       "<Figure size 432x288 with 1 Axes>"
      ]
     },
     "metadata": {
      "needs_background": "light"
     },
     "output_type": "display_data"
    }
   ],
   "source": [
    "# Plot train vs test accuracy per epoch\n",
    "plt.figure()\n",
    "# Use the history metrics\n",
    "plt.plot(history.history['loss'])\n",
    "plt.plot(history.history['val_loss'])\n",
    "# Make it pretty\n",
    "plt.title('Model loss')\n",
    "plt.ylabel('loss')\n",
    "plt.xlabel('Epoch')\n",
    "plt.legend(['Train', 'Test'])\n",
    "plt.show()"
   ]
  },
  {
   "cell_type": "markdown",
   "metadata": {},
   "source": [
    "TEST MODEL PERFORMANCE ON UNSEEN DATA"
   ]
  },
  {
   "cell_type": "code",
   "execution_count": 576,
   "metadata": {},
   "outputs": [],
   "source": [
    "prediction = model.predict(X_test)\n",
    "y_pred=[]\n",
    "for i in range(len(prediction)):\n",
    "    if prediction[i]>0.5:\n",
    "        y_pred.append(1)\n",
    "    else:\n",
    "        y_pred.append(0)"
   ]
  },
  {
   "cell_type": "code",
   "execution_count": 577,
   "metadata": {},
   "outputs": [
    {
     "data": {
      "text/plain": [
       "array([[1430,  160],\n",
       "       [ 259, 1337]], dtype=int64)"
      ]
     },
     "execution_count": 577,
     "metadata": {},
     "output_type": "execute_result"
    }
   ],
   "source": [
    "confusion_matrix(y_test,y_pred)"
   ]
  },
  {
   "cell_type": "code",
   "execution_count": 578,
   "metadata": {},
   "outputs": [],
   "source": [
    "tn, fp, fn, tp = confusion_matrix(y_test,y_pred).ravel()"
   ]
  },
  {
   "cell_type": "code",
   "execution_count": 579,
   "metadata": {},
   "outputs": [
    {
     "name": "stdout",
     "output_type": "stream",
     "text": [
      " confusion matrix shows that  we correctly classified 2767 and misclassified 419 cases out of 3186 \n"
     ]
    }
   ],
   "source": [
    "print(\" confusion matrix shows that  we correctly classified {} and misclassified {} cases out of {} \".format(tn+tp,fp+fn,tn+tp+fp+fn))"
   ]
  },
  {
   "cell_type": "code",
   "execution_count": 580,
   "metadata": {},
   "outputs": [
    {
     "name": "stdout",
     "output_type": "stream",
     "text": [
      "We got 0.8684871311989956 accuracy on test data\n"
     ]
    }
   ],
   "source": [
    "print(\"We got {} accuracy on test data\".format(accuracy_score(y_test,y_pred)))"
   ]
  },
  {
   "cell_type": "code",
   "execution_count": 581,
   "metadata": {},
   "outputs": [
    {
     "name": "stdout",
     "output_type": "stream",
     "text": [
      "              precision    recall  f1-score   support\n",
      "\n",
      "           0       0.85      0.90      0.87      1590\n",
      "           1       0.89      0.84      0.86      1596\n",
      "\n",
      "    accuracy                           0.87      3186\n",
      "   macro avg       0.87      0.87      0.87      3186\n",
      "weighted avg       0.87      0.87      0.87      3186\n",
      "\n"
     ]
    }
   ],
   "source": [
    "print(classification_report(y_test,y_pred))"
   ]
  },
  {
   "cell_type": "code",
   "execution_count": 582,
   "metadata": {},
   "outputs": [
    {
     "name": "stdout",
     "output_type": "stream",
     "text": [
      "roc-auc-score of model is 0.868545183714002\n"
     ]
    }
   ],
   "source": [
    "print(\"roc-auc-score of model is {}\".format(roc_auc_score(y_test,y_pred)))"
   ]
  },
  {
   "cell_type": "code",
   "execution_count": 583,
   "metadata": {},
   "outputs": [
    {
     "data": {
      "image/png": "[encoded data removed]",
      "text/plain": [
       "<Figure size 432x288 with 1 Axes>"
      ]
     },
     "metadata": {
      "needs_background": "light"
     },
     "output_type": "display_data"
    }
   ],
   "source": [
    "#ROC_AUC_CURVE IS GIVEN BELOW\n",
    "y_pred = model.predict(X_test).ravel()\n",
    "fpr, tpr, thresholds = roc_curve(y_test, y_pred)\n",
    "auc = auc(fpr, tpr)\n",
    "plt.figure(1)\n",
    "plt.plot([0, 1], [0, 1], 'k--')\n",
    "plt.plot(fpr, tpr, label='Keras (area = {:.3f})'.format(auc))\n",
    "plt.xlabel('False positive rate')\n",
    "plt.ylabel('True positive rate')\n",
    "plt.title('ROC curve')\n",
    "plt.legend(loc='best')\n",
    "plt.show()"
   ]
  },
  {
   "cell_type": "markdown",
   "metadata": {},
   "source": [
    "CONCLUSION"
   ]
  },
  {
   "cell_type": "raw",
   "metadata": {},
   "source": [
    "In conclusion, we have been able to get insights from our churn dataset and predicted  with the Deep Learning  model at 87% accuracy.\n",
    "This could be imprved by collecting more relevant data with important feature from different individual over time "
   ]
  },
  {
   "cell_type": "code",
   "execution_count": null,
   "metadata": {},
   "outputs": [],
   "source": []
  }
 ],
 "metadata": {
  "kernelspec": {
   "display_name": "Python 3",
   "language": "python",
   "name": "python3"
  },
  "language_info": {
   "codemirror_mode": {
    "name": "ipython",
    "version": 3
   },
   "file_extension": ".py",
   "mimetype": "text/x-python",
   "name": "python",
   "nbconvert_exporter": "python",
   "pygments_lexer": "ipython3",
   "version": "3.7.7"
  }
 },
 "nbformat": 4,
 "nbformat_minor": 4
}
